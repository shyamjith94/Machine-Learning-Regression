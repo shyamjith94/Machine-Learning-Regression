{
  "nbformat": 4,
  "nbformat_minor": 0,
  "metadata": {
    "colab": {
      "name": "RidgeRegressionGradientDescent.ipynb",
      "provenance": [],
      "mount_file_id": "1DYkGW_x7-pdpuKdXWXnHRUkZWJMgaiMy",
      "authorship_tag": "ABX9TyP93Psr7MwdFgjpGuGn02CO",
      "include_colab_link": true
    },
    "kernelspec": {
      "name": "python3",
      "display_name": "Python 3"
    }
  },
  "cells": [
    {
      "cell_type": "markdown",
      "metadata": {
        "id": "view-in-github",
        "colab_type": "text"
      },
      "source": [
        "<a href=\"https://colab.research.google.com/github/shyamjith94/Machine-Learning-Regression/blob/main/RidgeRegressionGradientDescent.ipynb\" target=\"_parent\"><img src=\"https://colab.research.google.com/assets/colab-badge.svg\" alt=\"Open In Colab\"/></a>"
      ]
    },
    {
      "cell_type": "code",
      "metadata": {
        "id": "hZlE5iKL35_v"
      },
      "source": [
        "%%capture\n",
        "!pip install turicreate"
      ],
      "execution_count": 19,
      "outputs": []
    },
    {
      "cell_type": "code",
      "metadata": {
        "id": "u2gY8zSr4E_a"
      },
      "source": [
        "import turicreate as tc\n",
        "import matplotlib.pyplot as plt\n",
        "import seaborn as sns\n",
        "import pandas as pd\n",
        "import numpy as np\n",
        "from math import log, sqrt\n",
        "from sklearn.utils import shuffle"
      ],
      "execution_count": 20,
      "outputs": []
    },
    {
      "cell_type": "code",
      "metadata": {
        "id": "_I6Yyiab4mZe",
        "outputId": "ae74a792-2f38-409b-cdd8-2738d4932ab9",
        "colab": {
          "base_uri": "https://localhost:8080/",
          "height": 208
        }
      },
      "source": [
        "data = tc.SFrame.read_csv(\"/content/drive/My Drive/Machine Learning: Regression/Data/2/c_kc_house_data.csv/kc_house_data.csv\")"
      ],
      "execution_count": 21,
      "outputs": [
        {
          "output_type": "display_data",
          "data": {
            "text/html": [
              "<pre>Finished parsing file /content/drive/My Drive/Machine Learning: Regression/Data/2/c_kc_house_data.csv/kc_house_data.csv</pre>"
            ],
            "text/plain": [
              "Finished parsing file /content/drive/My Drive/Machine Learning: Regression/Data/2/c_kc_house_data.csv/kc_house_data.csv"
            ]
          },
          "metadata": {
            "tags": []
          }
        },
        {
          "output_type": "display_data",
          "data": {
            "text/html": [
              "<pre>Parsing completed. Parsed 100 lines in 0.169873 secs.</pre>"
            ],
            "text/plain": [
              "Parsing completed. Parsed 100 lines in 0.169873 secs."
            ]
          },
          "metadata": {
            "tags": []
          }
        },
        {
          "output_type": "stream",
          "text": [
            "------------------------------------------------------\n",
            "Inferred types from first 100 line(s) of file as \n",
            "column_type_hints=[int,str,float,int,float,int,int,float,int,int,int,int,int,int,int,int,int,float,float,int,int]\n",
            "If parsing fails due to incorrect types, you can correct\n",
            "the inferred type list above and pass it to read_csv in\n",
            "the column_type_hints argument\n",
            "------------------------------------------------------\n"
          ],
          "name": "stdout"
        },
        {
          "output_type": "display_data",
          "data": {
            "text/html": [
              "<pre>Finished parsing file /content/drive/My Drive/Machine Learning: Regression/Data/2/c_kc_house_data.csv/kc_house_data.csv</pre>"
            ],
            "text/plain": [
              "Finished parsing file /content/drive/My Drive/Machine Learning: Regression/Data/2/c_kc_house_data.csv/kc_house_data.csv"
            ]
          },
          "metadata": {
            "tags": []
          }
        },
        {
          "output_type": "display_data",
          "data": {
            "text/html": [
              "<pre>Parsing completed. Parsed 21613 lines in 0.115717 secs.</pre>"
            ],
            "text/plain": [
              "Parsing completed. Parsed 21613 lines in 0.115717 secs."
            ]
          },
          "metadata": {
            "tags": []
          }
        }
      ]
    },
    {
      "cell_type": "markdown",
      "metadata": {
        "id": "SyKXKwzs4oMR"
      },
      "source": [
        "**Convert SFrame Data to Numpy**"
      ]
    },
    {
      "cell_type": "code",
      "metadata": {
        "id": "HwfO91YB6-Zp"
      },
      "source": [
        "def get_numpy_data(frame, feature, output):\n",
        "    \"\"\" convert sframe to numpy data\n",
        "        frame   :- Sframe\n",
        "        feature :- list of fetures\n",
        "        output  :- name of output variable (price)\n",
        "        return  :- two arrays feature matrix and output array\"\"\"\n",
        "    # add constant to sframe\n",
        "    frame[\"constant\"] = 1 \n",
        "    feature = [\"constant\"] + feature\n",
        "    \n",
        "    # select feature column from frame include contant\n",
        "    feature_frame = frame[feature]\n",
        "\n",
        "    # convert to numpy\n",
        "    feature_matrix = feature_frame.to_numpy()\n",
        "\n",
        "    # select feature column from frame\n",
        "    output_frame = frame[output]\n",
        "    \n",
        "    # convert to numpy\n",
        "    output_array = output_frame.to_numpy()\n",
        "    return (feature_matrix, output_array)\n"
      ],
      "execution_count": 30,
      "outputs": []
    },
    {
      "cell_type": "code",
      "metadata": {
        "id": "tUCFd3SK81EB"
      },
      "source": [
        "def predict_output(feature_matrix, weights):\n",
        "    \"\"\" feature matrix is numpy array cantain column of feature and\n",
        "        weights are corresponding numpy array\n",
        "        create the vector prediction by using numpy dot product fun\"\"\"\n",
        "    prediction = np.dot(feature_matrix, weights)\n",
        "    return prediction"
      ],
      "execution_count": 23,
      "outputs": []
    },
    {
      "cell_type": "markdown",
      "metadata": {
        "id": "GMyPq_sIATbp"
      },
      "source": [
        "**Feature Derivative**"
      ]
    },
    {
      "cell_type": "code",
      "metadata": {
        "id": "_klYkpnzAYw6"
      },
      "source": [
        "def feature_derivative_ridge(errors, feature, weight, l2_penalty, feature_is_constant):\n",
        "    # If feature_is_constant is True, derivative is twice the dot product of errors and feature\n",
        "    if feature_is_constant:\n",
        "        derivative = 2 * np.dot(errors, feature)\n",
        "    # Otherwise, derivative is twice the dot product plus 2*l2_penalty*weight\n",
        "    else:\n",
        "        derivative = 2 * np.dot(errors, feature) + 2*l2_penalty*weight\n",
        "    return derivative"
      ],
      "execution_count": 35,
      "outputs": []
    },
    {
      "cell_type": "markdown",
      "metadata": {
        "id": "8aOFg2Nw-GxE"
      },
      "source": [
        "**Gradient Descent**"
      ]
    },
    {
      "cell_type": "code",
      "metadata": {
        "id": "D05qIg939hAN"
      },
      "source": [
        "def ridge_regression_gradient_descent(feature_matrix, output, initial_weights, step_size, l2_penalty, max_iterations=100):\n",
        "    print('Starting gradient descent with l2_penalty = ' + str(l2_penalty))\n",
        "    \n",
        "    weights = np.array(initial_weights) # make sure it's a numpy array\n",
        "    iteration = 0 # iteration counter\n",
        "    print_frequency = 1  # for adjusting frequency of debugging output\n",
        "    \n",
        "    # while not reached maximum number of iterations:\n",
        "    while iteration < max_iterations:\n",
        "        iteration += 1  # increment iteration counter\n",
        "        \n",
        "        # code section for adjusting frequency of debugging output.\n",
        "        if iteration == 10:\n",
        "            print_frequency = 10\n",
        "        if iteration == 100:\n",
        "            print_frequency = 100\n",
        "        if iteration%print_frequency==0:\n",
        "            print('Iteration = ' + str(iteration))\n",
        "        # end code section        \n",
        "        \n",
        "        # compute the predictions based on feature_matrix and weights \n",
        "        # using your predict_output() function\n",
        "        predictions = predict_output(feature_matrix, weights)\n",
        "\n",
        "        # compute the errors as predictions - output\n",
        "        errors = predictions - output\n",
        "        \n",
        "        # from time to time, print the value of the cost function\n",
        "        if iteration%print_frequency==0:\n",
        "            print('Cost function = ', str(np.dot(errors,errors) + l2_penalty*(np.dot(weights,weights) - weights[0]**2)))\n",
        "        \n",
        "        for i in range(len(weights)): # loop over each weight\n",
        "            # Recall that feature_matrix[:,i] is the feature column associated with weights[i]\n",
        "            # compute the derivative for weight[i].\n",
        "            #(Remember: when i=0, you are computing the derivative of the constant!)\n",
        "            # parameters: errors, feature, weight, l2_penalty, feature_is_constant\n",
        "            derivative = feature_derivative_ridge(errors, feature_matrix[:, i],\n",
        "                                                  weights[i], l2_penalty, False)\n",
        "            # subtract the step size times the derivative from the current weight\n",
        "            weights[i] = weights[i] - step_size * derivative\n",
        "            \n",
        "    print('Done with gradient descent at iteration ', iteration)\n",
        "    print('Learned weights = ', str(weights))\n",
        "    return weights"
      ],
      "execution_count": 36,
      "outputs": []
    },
    {
      "cell_type": "code",
      "metadata": {
        "id": "S95EFIkx-27v"
      },
      "source": [
        "simple_features = ['sqft_living']\n",
        "my_output = 'price'"
      ],
      "execution_count": 25,
      "outputs": []
    },
    {
      "cell_type": "code",
      "metadata": {
        "id": "TlxuHoA4-4-E"
      },
      "source": [
        "train_data,test_data = data.random_split(.8,seed=0)"
      ],
      "execution_count": 26,
      "outputs": []
    },
    {
      "cell_type": "markdown",
      "metadata": {
        "id": "B4iMoTJy_74u"
      },
      "source": [
        "**generate numpy matrix for train and test data**"
      ]
    },
    {
      "cell_type": "code",
      "metadata": {
        "id": "hbTJI6n2-8wb"
      },
      "source": [
        "(simple_feature_matrix, output) = get_numpy_data(train_data, simple_features, my_output)\n",
        "(simple_test_feature_matrix, test_output) = get_numpy_data(test_data, simple_features, my_output)"
      ],
      "execution_count": 32,
      "outputs": []
    },
    {
      "cell_type": "code",
      "metadata": {
        "id": "B74-r3QdACq2"
      },
      "source": [
        "initial_weights = np.array([0., 0.])\n",
        "step_size = 1e-12\n",
        "max_iterations=1000"
      ],
      "execution_count": 33,
      "outputs": []
    },
    {
      "cell_type": "code",
      "metadata": {
        "id": "AssyA7NsAJcr",
        "outputId": "71d53bb3-b65a-4b65-d2d9-b403ddff2bb9",
        "colab": {
          "base_uri": "https://localhost:8080/",
          "height": 1000
        }
      },
      "source": [
        "simple_weights_0_penalty = ridge_regression_gradient_descent(simple_feature_matrix, output, \n",
        "                                                             initial_weights, step_size, \n",
        "                                                             0.0, max_iterations)"
      ],
      "execution_count": 37,
      "outputs": [
        {
          "output_type": "stream",
          "text": [
            "Starting gradient descent with l2_penalty = 0.0\n",
            "Iteration = 1\n",
            "Cost function =  7433051852335772.0\n",
            "Iteration = 2\n",
            "Cost function =  5394267213533688.0\n",
            "Iteration = 3\n",
            "Cost function =  4023237736286403.0\n",
            "Iteration = 4\n",
            "Cost function =  3101256183295487.0\n",
            "Iteration = 5\n",
            "Cost function =  2481247643601012.0\n",
            "Iteration = 6\n",
            "Cost function =  2064308076801446.5\n",
            "Iteration = 7\n",
            "Cost function =  1783927096156441.2\n",
            "Iteration = 8\n",
            "Cost function =  1595378201854741.8\n",
            "Iteration = 9\n",
            "Cost function =  1468583989698184.0\n",
            "Iteration = 10\n",
            "Cost function =  1383318190090050.5\n",
            "Iteration = 20\n",
            "Cost function =  1211562139024524.5\n",
            "Iteration = 30\n",
            "Cost function =  1208313761205656.2\n",
            "Iteration = 40\n",
            "Cost function =  1208252324779675.5\n",
            "Iteration = 50\n",
            "Cost function =  1208251162139724.8\n",
            "Iteration = 60\n",
            "Cost function =  1208251139442068.0\n",
            "Iteration = 70\n",
            "Cost function =  1208251138303840.5\n",
            "Iteration = 80\n",
            "Cost function =  1208251137573361.5\n",
            "Iteration = 90\n",
            "Cost function =  1208251136850594.0\n",
            "Iteration = 100\n",
            "Cost function =  1208251136127972.0\n",
            "Iteration = 200\n",
            "Cost function =  1208251128901788.0\n",
            "Iteration = 300\n",
            "Cost function =  1208251121675612.8\n",
            "Iteration = 400\n",
            "Cost function =  1208251114449445.8\n",
            "Iteration = 500\n",
            "Cost function =  1208251107223286.8\n",
            "Iteration = 600\n",
            "Cost function =  1208251099997136.0\n",
            "Iteration = 700\n",
            "Cost function =  1208251092770993.0\n",
            "Iteration = 800\n",
            "Cost function =  1208251085544859.0\n",
            "Iteration = 900\n",
            "Cost function =  1208251078318732.8\n",
            "Iteration = 1000\n",
            "Cost function =  1208251071092615.2\n",
            "Done with gradient descent at iteration  1000\n",
            "Learned weights =  [-1.63113515e-01  2.63024369e+02]\n"
          ],
          "name": "stdout"
        }
      ]
    },
    {
      "cell_type": "code",
      "metadata": {
        "id": "w926uaAcA_Qq",
        "outputId": "b9373d66-d6d9-42ef-e1f9-4ca6fe04721d",
        "colab": {
          "base_uri": "https://localhost:8080/",
          "height": 1000
        }
      },
      "source": [
        "# consider high regularization. Set the l2_penalty to 1e11 and run ridge regression algorithm to learn the weights of your model.\n",
        "simple_weights_high_penalty = ridge_regression_gradient_descent(simple_feature_matrix, output, \n",
        "                                                                initial_weights, step_size, \n",
        "                                                                1e11, max_iterations)"
      ],
      "execution_count": 40,
      "outputs": [
        {
          "output_type": "stream",
          "text": [
            "Starting gradient descent with l2_penalty = 100000000000.0\n",
            "Iteration = 1\n",
            "Cost function =  7433051852335772.0\n",
            "Iteration = 2\n",
            "Cost function =  5618303898910948.0\n",
            "Iteration = 3\n",
            "Cost function =  4920613327836152.0\n",
            "Iteration = 4\n",
            "Cost function =  4652382056353857.0\n",
            "Iteration = 5\n",
            "Cost function =  4549258949620442.0\n",
            "Iteration = 6\n",
            "Cost function =  4509612654569465.0\n",
            "Iteration = 7\n",
            "Cost function =  4494370397124783.0\n",
            "Iteration = 8\n",
            "Cost function =  4488510417904797.0\n",
            "Iteration = 9\n",
            "Cost function =  4486257512209394.0\n",
            "Iteration = 10\n",
            "Cost function =  4485391368044056.0\n",
            "Iteration = 20\n",
            "Cost function =  4484850428076406.0\n",
            "Iteration = 30\n",
            "Cost function =  4484850390029665.0\n",
            "Iteration = 40\n",
            "Cost function =  4484850390044601.0\n",
            "Iteration = 50\n",
            "Cost function =  4484850390046539.0\n",
            "Iteration = 60\n",
            "Cost function =  4484850390046748.0\n",
            "Iteration = 70\n",
            "Cost function =  4484850390046770.0\n",
            "Iteration = 80\n",
            "Cost function =  4484850390046772.0\n",
            "Iteration = 90\n",
            "Cost function =  4484850390046772.5\n",
            "Iteration = 100\n",
            "Cost function =  4484850390046772.5\n",
            "Iteration = 200\n",
            "Cost function =  4484850390046772.5\n",
            "Iteration = 300\n",
            "Cost function =  4484850390046772.5\n",
            "Iteration = 400\n",
            "Cost function =  4484850390046772.5\n",
            "Iteration = 500\n",
            "Cost function =  4484850390046772.5\n",
            "Iteration = 600\n",
            "Cost function =  4484850390046772.5\n",
            "Iteration = 700\n",
            "Cost function =  4484850390046772.5\n",
            "Iteration = 800\n",
            "Cost function =  4484850390046772.5\n",
            "Iteration = 900\n",
            "Cost function =  4484850390046772.5\n",
            "Iteration = 1000\n",
            "Cost function =  4484850390046772.5\n",
            "Done with gradient descent at iteration  1000\n",
            "Learned weights =  [4.87184758e-02 1.24574021e+02]\n"
          ],
          "name": "stdout"
        }
      ]
    },
    {
      "cell_type": "code",
      "metadata": {
        "id": "x_3_X43SE6GH",
        "outputId": "8da234d4-6ac7-491e-9230-fb9f0be7363f",
        "colab": {
          "base_uri": "https://localhost:8080/",
          "height": 706
        }
      },
      "source": [
        "plt.figure(figsize=(16, 10))\n",
        "plt.plot(simple_feature_matrix,output,'k.',\n",
        "         simple_feature_matrix,predict_output(simple_feature_matrix, simple_weights_0_penalty),'b-',\n",
        "         simple_feature_matrix,predict_output(simple_feature_matrix, simple_weights_high_penalty),'r-')"
      ],
      "execution_count": 44,
      "outputs": [
        {
          "output_type": "execute_result",
          "data": {
            "text/plain": [
              "[<matplotlib.lines.Line2D at 0x7f627f815ef0>,\n",
              " <matplotlib.lines.Line2D at 0x7f627f815fd0>,\n",
              " <matplotlib.lines.Line2D at 0x7f627f81e160>,\n",
              " <matplotlib.lines.Line2D at 0x7f627f81e2e8>,\n",
              " <matplotlib.lines.Line2D at 0x7f627f81e438>,\n",
              " <matplotlib.lines.Line2D at 0x7f627f81e588>]"
            ]
          },
          "metadata": {
            "tags": []
          },
          "execution_count": 44
        },
        {
          "output_type": "display_data",
          "data": {
            "image/png": "[encoded data removed]",
            "text/plain": [
              "<Figure size 1152x720 with 1 Axes>"
            ]
          },
          "metadata": {
            "tags": [],
            "needs_background": "light"
          }
        }
      ]
    },
    {
      "cell_type": "markdown",
      "metadata": {
        "id": "6LTkog40FgDQ"
      },
      "source": [
        "**RSS on the TEST data - The initial weights (all zeros)**"
      ]
    },
    {
      "cell_type": "code",
      "metadata": {
        "id": "5zuQM2d1FW94",
        "outputId": "f00a8bb7-53a0-4d74-9ead-c4d4ab1dacea",
        "colab": {
          "base_uri": "https://localhost:8080/",
          "height": 52
        }
      },
      "source": [
        "initial_weights = np.array([0.0,0.0])\n",
        "test_predictions_initial_weights = predict_output(simple_test_feature_matrix, initial_weights) \n",
        "errors = test_predictions_initial_weights - test_output # prediction errors\n",
        "\n",
        "print(\"Initial weights:\", initial_weights)\n",
        "print(\"RSS = {:.3e}\".format((errors**2).sum()))"
      ],
      "execution_count": 45,
      "outputs": [
        {
          "output_type": "stream",
          "text": [
            "Initial weights: [0. 0.]\n",
            "RSS = 1.784e+15\n"
          ],
          "name": "stdout"
        }
      ]
    },
    {
      "cell_type": "markdown",
      "metadata": {
        "id": "nUhFAmr1FnFT"
      },
      "source": [
        "**RSS on the TEST data - The weights learned with no regularization**"
      ]
    },
    {
      "cell_type": "code",
      "metadata": {
        "id": "C40KoBzoFoYd",
        "outputId": "39cd5129-62da-49bf-a777-647bd245e999",
        "colab": {
          "base_uri": "https://localhost:8080/",
          "height": 52
        }
      },
      "source": [
        "test_predictions_0_penalty = predict_output(simple_test_feature_matrix, simple_weights_0_penalty) \n",
        "errors = test_predictions_0_penalty - test_output # prediction errors\n",
        "\n",
        "print(\"Weights learned with no regularization:\", simple_weights_0_penalty)\n",
        "print('RSS = {:.3e}'.format( (errors**2).sum()))"
      ],
      "execution_count": 46,
      "outputs": [
        {
          "output_type": "stream",
          "text": [
            "Weights learned with no regularization: [-1.63113515e-01  2.63024369e+02]\n",
            "RSS = 2.757e+14\n"
          ],
          "name": "stdout"
        }
      ]
    },
    {
      "cell_type": "markdown",
      "metadata": {
        "id": "43Yf6mjhF1Et"
      },
      "source": [
        "**RSS on the TEST data - The weights learned with high regularization**"
      ]
    },
    {
      "cell_type": "code",
      "metadata": {
        "id": "8L8ND7b5F6_Y",
        "outputId": "e21f9e95-0cae-4a57-d508-bc5f4abcd69e",
        "colab": {
          "base_uri": "https://localhost:8080/",
          "height": 52
        }
      },
      "source": [
        "test_predictions_high_penalty = predict_output(simple_test_feature_matrix, simple_weights_high_penalty) \n",
        "errors = test_predictions_high_penalty - test_output # prediction errors\n",
        "\n",
        "print(\"Weights learned with high regularization:\", simple_weights_high_penalty) \n",
        "print('RSS = {:.3e}'.format((errors**2).sum()))"
      ],
      "execution_count": 47,
      "outputs": [
        {
          "output_type": "stream",
          "text": [
            "Weights learned with high regularization: [4.87184758e-02 1.24574021e+02]\n",
            "RSS = 6.947e+14\n"
          ],
          "name": "stdout"
        }
      ]
    },
    {
      "cell_type": "markdown",
      "metadata": {
        "id": "d7o4sO7uGLE0"
      },
      "source": [
        "**Running Multiple regression with l2 penalty**"
      ]
    },
    {
      "cell_type": "code",
      "metadata": {
        "id": "WdoIPQfZGS-T"
      },
      "source": [
        "model_features = ['sqft_living', 'sqft_living15'] # sqft_living15 is the average squarefeet for the nearest 15 neighbors. \n",
        "my_output = 'price'\n",
        "(feature_matrix, output) = get_numpy_data(train_data, model_features, my_output)\n",
        "(test_feature_matrix, test_output) = get_numpy_data(test_data, model_features, my_output)"
      ],
      "execution_count": 48,
      "outputs": []
    },
    {
      "cell_type": "code",
      "metadata": {
        "id": "nKnSD-VvGfwZ"
      },
      "source": [
        "initial_weights = np.array([0.0,0.0,0.0])\n",
        "step_size = 1e-12\n",
        "max_iterations = 1000"
      ],
      "execution_count": 49,
      "outputs": []
    },
    {
      "cell_type": "code",
      "metadata": {
        "id": "QokgBgMRGiML",
        "outputId": "48d9c926-9676-4845-cdd7-518d8ccf3cde",
        "colab": {
          "base_uri": "https://localhost:8080/",
          "height": 1000
        }
      },
      "source": [
        "multiple_weights_0_penalty = ridge_regression_gradient_descent(feature_matrix, output, \n",
        "                                                             initial_weights, step_size, \n",
        "                                                             0.0, max_iterations)"
      ],
      "execution_count": 50,
      "outputs": [
        {
          "output_type": "stream",
          "text": [
            "Starting gradient descent with l2_penalty = 0.0\n",
            "Iteration = 1\n",
            "Cost function =  7433051852335772.0\n",
            "Iteration = 2\n",
            "Cost function =  4056752332045942.0\n",
            "Iteration = 3\n",
            "Cost function =  2529565114525310.0\n",
            "Iteration = 4\n",
            "Cost function =  1838556694300506.8\n",
            "Iteration = 5\n",
            "Cost function =  1525675575150296.5\n",
            "Iteration = 6\n",
            "Cost function =  1383789498571783.5\n",
            "Iteration = 7\n",
            "Cost function =  1319232606146273.5\n",
            "Iteration = 8\n",
            "Cost function =  1289648871879140.5\n",
            "Iteration = 9\n",
            "Cost function =  1275884723913736.5\n",
            "Iteration = 10\n",
            "Cost function =  1269278807397619.5\n",
            "Iteration = 20\n",
            "Cost function =  1257812386017016.0\n",
            "Iteration = 30\n",
            "Cost function =  1251954570861556.0\n",
            "Iteration = 40\n",
            "Cost function =  1246755422656425.8\n",
            "Iteration = 50\n",
            "Cost function =  1242139508166548.0\n",
            "Iteration = 60\n",
            "Cost function =  1238041400480994.0\n",
            "Iteration = 70\n",
            "Cost function =  1234403012742170.5\n",
            "Iteration = 80\n",
            "Cost function =  1231172774196731.5\n",
            "Iteration = 90\n",
            "Cost function =  1228304899227735.5\n",
            "Iteration = 100\n",
            "Cost function =  1225758738385979.0\n",
            "Iteration = 200\n",
            "Cost function =  1211738880290897.0\n",
            "Iteration = 300\n",
            "Cost function =  1207473079755049.5\n",
            "Iteration = 400\n",
            "Cost function =  1206175124539964.8\n",
            "Iteration = 500\n",
            "Cost function =  1205780188995876.2\n",
            "Iteration = 600\n",
            "Cost function =  1205660013231388.5\n",
            "Iteration = 700\n",
            "Cost function =  1205623438011734.2\n",
            "Iteration = 800\n",
            "Cost function =  1205612299743252.0\n",
            "Iteration = 900\n",
            "Cost function =  1205608901119130.5\n",
            "Iteration = 1000\n",
            "Cost function =  1205607857419329.5\n",
            "Done with gradient descent at iteration  1000\n",
            "Learned weights =  [ -0.35743483 243.05416982  22.41481497]\n"
          ],
          "name": "stdout"
        }
      ]
    },
    {
      "cell_type": "code",
      "metadata": {
        "id": "nc4bAYslGmRb",
        "outputId": "cf5b6e74-7747-4ad4-ba83-df7aa6433fdb",
        "colab": {
          "base_uri": "https://localhost:8080/",
          "height": 1000
        }
      },
      "source": [
        "multiple_weights_high_penalty = ridge_regression_gradient_descent(feature_matrix, output, \n",
        "                                                             initial_weights, step_size, \n",
        "                                                             1e11, max_iterations)"
      ],
      "execution_count": 51,
      "outputs": [
        {
          "output_type": "stream",
          "text": [
            "Starting gradient descent with l2_penalty = 100000000000.0\n",
            "Iteration = 1\n",
            "Cost function =  7433051852335772.0\n",
            "Iteration = 2\n",
            "Cost function =  4460489790922030.0\n",
            "Iteration = 3\n",
            "Cost function =  3796674504591489.0\n",
            "Iteration = 4\n",
            "Cost function =  3648319602094899.0\n",
            "Iteration = 5\n",
            "Cost function =  3615091213565495.0\n",
            "Iteration = 6\n",
            "Cost function =  3607602894633405.0\n",
            "Iteration = 7\n",
            "Cost function =  3605886518090020.0\n",
            "Iteration = 8\n",
            "Cost function =  3605475115347710.0\n",
            "Iteration = 9\n",
            "Cost function =  3605365453947493.5\n",
            "Iteration = 10\n",
            "Cost function =  3605329733905938.0\n",
            "Iteration = 20\n",
            "Cost function =  3605295066545630.0\n",
            "Iteration = 30\n",
            "Cost function =  3605294774663874.0\n",
            "Iteration = 40\n",
            "Cost function =  3605294771788592.0\n",
            "Iteration = 50\n",
            "Cost function =  3605294771762588.0\n",
            "Iteration = 60\n",
            "Cost function =  3605294771762597.5\n",
            "Iteration = 70\n",
            "Cost function =  3605294771762626.0\n",
            "Iteration = 80\n",
            "Cost function =  3605294771762630.0\n",
            "Iteration = 90\n",
            "Cost function =  3605294771762630.0\n",
            "Iteration = 100\n",
            "Cost function =  3605294771762630.0\n",
            "Iteration = 200\n",
            "Cost function =  3605294771762629.5\n",
            "Iteration = 300\n",
            "Cost function =  3605294771762629.5\n",
            "Iteration = 400\n",
            "Cost function =  3605294771762629.5\n",
            "Iteration = 500\n",
            "Cost function =  3605294771762629.5\n",
            "Iteration = 600\n",
            "Cost function =  3605294771762629.5\n",
            "Iteration = 700\n",
            "Cost function =  3605294771762629.5\n",
            "Iteration = 800\n",
            "Cost function =  3605294771762629.5\n",
            "Iteration = 900\n",
            "Cost function =  3605294771762629.5\n",
            "Iteration = 1000\n",
            "Cost function =  3605294771762629.5\n",
            "Done with gradient descent at iteration  1000\n",
            "Learned weights =  [3.36011655e-02 9.14901676e+01 7.84374903e+01]\n"
          ],
          "name": "stdout"
        }
      ]
    },
    {
      "cell_type": "code",
      "metadata": {
        "id": "vChpOAACG4rV",
        "outputId": "2c3e4502-05f1-4125-8db0-89cda2b60109",
        "colab": {
          "base_uri": "https://localhost:8080/",
          "height": 52
        }
      },
      "source": [
        "initial_weights = np.array([0.0,0.0,0.0])\n",
        "test_predictions_initial_weights = predict_output(test_feature_matrix, initial_weights) \n",
        "errors = test_predictions_initial_weights - test_output # prediction errors\n",
        "\n",
        "print(\"Initial weights:\", initial_weights)\n",
        "print(\"RSS = {:.3e}\".format( (errors**2).sum()))"
      ],
      "execution_count": 52,
      "outputs": [
        {
          "output_type": "stream",
          "text": [
            "Initial weights: [0. 0. 0.]\n",
            "RSS = 1.784e+15\n"
          ],
          "name": "stdout"
        }
      ]
    },
    {
      "cell_type": "code",
      "metadata": {
        "id": "C9CsNDRKG9cC",
        "outputId": "4f0d5c6b-0fdc-470f-a43c-9e87ca63786f",
        "colab": {
          "base_uri": "https://localhost:8080/",
          "height": 52
        }
      },
      "source": [
        "test_predictions_0_penalty = predict_output(test_feature_matrix, multiple_weights_0_penalty) \n",
        "errors = test_predictions_0_penalty - test_output # prediction errors\n",
        "print(\"Weights learned with no regularization:\", multiple_weights_0_penalty)\n",
        "print(\"RSS = {:.3e}\".format((errors**2).sum()))"
      ],
      "execution_count": 53,
      "outputs": [
        {
          "output_type": "stream",
          "text": [
            "Weights learned with no regularization: [ -0.35743483 243.05416982  22.41481497]\n",
            "RSS = 2.741e+14\n"
          ],
          "name": "stdout"
        }
      ]
    },
    {
      "cell_type": "code",
      "metadata": {
        "id": "C7do8ZqxHBox",
        "outputId": "fdb94320-6abb-45c3-dab0-772bd4e09a18",
        "colab": {
          "base_uri": "https://localhost:8080/",
          "height": 52
        }
      },
      "source": [
        "test_predictions_high_penalty = predict_output(test_feature_matrix, multiple_weights_high_penalty) \n",
        "errors = test_predictions_high_penalty - test_output # prediction errors\n",
        "print(\"Weights learned with high regularization:\", multiple_weights_high_penalty)\n",
        "print(\"RSS = {:.3e}\".format((errors**2).sum()))"
      ],
      "execution_count": 54,
      "outputs": [
        {
          "output_type": "stream",
          "text": [
            "Weights learned with high regularization: [3.36011655e-02 9.14901676e+01 7.84374903e+01]\n",
            "RSS = 5.004e+14\n"
          ],
          "name": "stdout"
        }
      ]
    },
    {
      "cell_type": "code",
      "metadata": {
        "id": "bNTZmCiZHJIz",
        "outputId": "67735456-ab21-4d57-91e8-a65dd380eaca",
        "colab": {
          "base_uri": "https://localhost:8080/",
          "height": 52
        }
      },
      "source": [
        "test_predictions_high_penalty = predict_output(test_feature_matrix, multiple_weights_high_penalty) \n",
        "errors = test_predictions_high_penalty - test_output # prediction errors\n",
        "print(\"Weights learned with high regularization:\", multiple_weights_high_penalty)\n",
        "print(\"RSS = {:.3e}\".format((errors**2).sum()))"
      ],
      "execution_count": 55,
      "outputs": [
        {
          "output_type": "stream",
          "text": [
            "Weights learned with high regularization: [3.36011655e-02 9.14901676e+01 7.84374903e+01]\n",
            "RSS = 5.004e+14\n"
          ],
          "name": "stdout"
        }
      ]
    }
  ]
}
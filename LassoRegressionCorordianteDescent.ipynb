{
  "nbformat": 4,
  "nbformat_minor": 0,
  "metadata": {
    "colab": {
      "name": "LassoRegressionCorordianteDescent.ipynb",
      "provenance": [],
      "mount_file_id": "1kpGzHvm2g2sb7Ru7pMm7vq-8Hs_uSN40",
      "authorship_tag": "ABX9TyNgf2kA1GQUz3fO/fu7d1C1",
      "include_colab_link": true
    },
    "kernelspec": {
      "name": "python3",
      "display_name": "Python 3"
    }
  },
  "cells": [
    {
      "cell_type": "markdown",
      "metadata": {
        "id": "view-in-github",
        "colab_type": "text"
      },
      "source": [
        "<a href=\"https://colab.research.google.com/github/shyamjith94/Machine-Learning-Regression/blob/main/LassoRegressionCorordianteDescent.ipynb\" target=\"_parent\"><img src=\"https://colab.research.google.com/assets/colab-badge.svg\" alt=\"Open In Colab\"/></a>"
      ]
    },
    {
      "cell_type": "code",
      "metadata": {
        "id": "rUS_mMcRPmyk"
      },
      "source": [
        "%%capture\n",
        "!pip install turicreate"
      ],
      "execution_count": 1,
      "outputs": []
    },
    {
      "cell_type": "code",
      "metadata": {
        "id": "xLfMnviCP0VL"
      },
      "source": [
        "import turicreate as tc\n",
        "import matplotlib.pyplot as plt\n",
        "import seaborn as sns\n",
        "import pandas as pd\n",
        "import numpy as np\n",
        "from math import log, sqrt\n",
        "from sklearn.utils import shuffle"
      ],
      "execution_count": 2,
      "outputs": []
    },
    {
      "cell_type": "code",
      "metadata": {
        "id": "qkwmb-5SP-cJ",
        "outputId": "f34f80f3-ebf5-4a03-9e6b-280e1868f95d",
        "colab": {
          "base_uri": "https://localhost:8080/",
          "height": 208
        }
      },
      "source": [
        "data = tc.SFrame.read_csv(\"/content/drive/My Drive/Machine Learning: Regression/Data/2/c_kc_house_data.csv/kc_house_data.csv\")"
      ],
      "execution_count": 3,
      "outputs": [
        {
          "output_type": "display_data",
          "data": {
            "text/html": [
              "<pre>Finished parsing file /content/drive/My Drive/Machine Learning: Regression/Data/2/c_kc_house_data.csv/kc_house_data.csv</pre>"
            ],
            "text/plain": [
              "Finished parsing file /content/drive/My Drive/Machine Learning: Regression/Data/2/c_kc_house_data.csv/kc_house_data.csv"
            ]
          },
          "metadata": {
            "tags": []
          }
        },
        {
          "output_type": "display_data",
          "data": {
            "text/html": [
              "<pre>Parsing completed. Parsed 100 lines in 0.996858 secs.</pre>"
            ],
            "text/plain": [
              "Parsing completed. Parsed 100 lines in 0.996858 secs."
            ]
          },
          "metadata": {
            "tags": []
          }
        },
        {
          "output_type": "stream",
          "text": [
            "------------------------------------------------------\n",
            "Inferred types from first 100 line(s) of file as \n",
            "column_type_hints=[int,str,float,int,float,int,int,float,int,int,int,int,int,int,int,int,int,float,float,int,int]\n",
            "If parsing fails due to incorrect types, you can correct\n",
            "the inferred type list above and pass it to read_csv in\n",
            "the column_type_hints argument\n",
            "------------------------------------------------------\n"
          ],
          "name": "stdout"
        },
        {
          "output_type": "display_data",
          "data": {
            "text/html": [
              "<pre>Finished parsing file /content/drive/My Drive/Machine Learning: Regression/Data/2/c_kc_house_data.csv/kc_house_data.csv</pre>"
            ],
            "text/plain": [
              "Finished parsing file /content/drive/My Drive/Machine Learning: Regression/Data/2/c_kc_house_data.csv/kc_house_data.csv"
            ]
          },
          "metadata": {
            "tags": []
          }
        },
        {
          "output_type": "display_data",
          "data": {
            "text/html": [
              "<pre>Parsing completed. Parsed 21613 lines in 0.103685 secs.</pre>"
            ],
            "text/plain": [
              "Parsing completed. Parsed 21613 lines in 0.103685 secs."
            ]
          },
          "metadata": {
            "tags": []
          }
        }
      ]
    },
    {
      "cell_type": "code",
      "metadata": {
        "id": "v4V8iKGbdRt3"
      },
      "source": [
        "def get_numpy_data(frame, features, output):\n",
        "    \"\"\" frame   :- DataFrame\n",
        "        features:- list of features\n",
        "        output  :- str output variable(price)\n",
        "        return  :- numpy array of feature and output\n",
        "        \"\"\"\n",
        "    frame['constant'] = 1\n",
        "    features = ['constant'] + features\n",
        "    filter_frame = frame[features]\n",
        "    # convert to numpy\n",
        "    feature_matrix = filter_frame.to_numpy()\n",
        "    output_array = frame[output]\n",
        "    convert to numpy\n",
        "    output_matrix = output_array.to_numpy()\n",
        "    # return\n",
        "    return feature_matrix, output_matrix"
      ],
      "execution_count": 4,
      "outputs": []
    },
    {
      "cell_type": "code",
      "metadata": {
        "id": "UH5bqq-5epOf"
      },
      "source": [
        "def predict_feature(feature_matrix, weight):\n",
        "    \"\"\" feature_matrix  :- numpy array of features\n",
        "        weight          :- value of weight to calculate dot product\n",
        "                           using numpy\n",
        "        \"\"\"\n",
        "    prediction = np.dot(feature_matrix, weight)\n",
        "    return prediction\n"
      ],
      "execution_count": 5,
      "outputs": []
    },
    {
      "cell_type": "code",
      "metadata": {
        "id": "PxwzJ_kcfWtN"
      },
      "source": [
        "def normalize_feature(feature_matrix):\n",
        "    \"\"\" feature_matrix  :- numpy matrix of feature values\n",
        "        return          :- feature_matrix, normalized feture_matrix \n",
        "        \"\"\"\n",
        "    norm_feature = np.linalg.norm(feature_matrix, axis=0)\n",
        "    normalize_feature = feature_matrix/norm_feature\n",
        "    return normalize_feature,norm_feature "
      ],
      "execution_count": 6,
      "outputs": []
    },
    {
      "cell_type": "markdown",
      "metadata": {
        "id": "N_myHGXEjS_l"
      },
      "source": [
        "**Implementing Coordinate Descent with normalized features**\n",
        "**SUM[ (prediction - output)^2 ] + lambda*( |w[1]| + ... + |w[k]|).**"
      ]
    },
    {
      "cell_type": "code",
      "metadata": {
        "id": "EoSO4FBljYMp",
        "outputId": "b8659738-bf80-4533-9176-4a27f5b914ef",
        "colab": {
          "base_uri": "https://localhost:8080/",
          "height": 278
        }
      },
      "source": [
        "simple_features = [\"sqft_living\", \"bedrooms\"]\n",
        "my_output = \"price\"\n",
        "simple_feature_matrix, output = get_numpy_data(data, simple_features, my_output) \n",
        "print(\"Features\")\n",
        "print(simple_feature_matrix[:10])\n",
        "print(\"\\nOutput\")\n",
        "print(output[:10])"
      ],
      "execution_count": 9,
      "outputs": [
        {
          "output_type": "stream",
          "text": [
            "Features\n",
            "[[   1 1180    3]\n",
            " [   1 2570    3]\n",
            " [   1  770    2]\n",
            " [   1 1960    4]\n",
            " [   1 1680    3]\n",
            " [   1 5420    4]\n",
            " [   1 1715    3]\n",
            " [   1 1060    3]\n",
            " [   1 1780    3]\n",
            " [   1 1890    3]]\n",
            "\n",
            "Output\n",
            "[ 221900.  538000.  180000.  604000.  510000. 1225000.  257500.  291850.\n",
            "  229500.  323000.]\n"
          ],
          "name": "stdout"
        }
      ]
    },
    {
      "cell_type": "code",
      "metadata": {
        "id": "zDWwy1IdkaE6",
        "outputId": "95432f15-6a94-4232-ce0b-3f773fcc5f01",
        "colab": {
          "base_uri": "https://localhost:8080/",
          "height": 260
        }
      },
      "source": [
        "simple_feature_normalize, normlize = normalize_feature(simple_feature_matrix)\n",
        "print(\"Normalize Features\")\n",
        "print(simple_feature_normalize[:10])\n",
        "print(\"\\nNorm\")\n",
        "print(normlize[:10])"
      ],
      "execution_count": 16,
      "outputs": [
        {
          "output_type": "stream",
          "text": [
            "Normalize Features\n",
            "[[0.00680209 0.00353021 0.00583571]\n",
            " [0.00680209 0.00768869 0.00583571]\n",
            " [0.00680209 0.00230361 0.00389048]\n",
            " [0.00680209 0.00586375 0.00778095]\n",
            " [0.00680209 0.00502607 0.00583571]\n",
            " [0.00680209 0.01621506 0.00778095]\n",
            " [0.00680209 0.00513078 0.00583571]\n",
            " [0.00680209 0.00317121 0.00583571]\n",
            " [0.00680209 0.00532524 0.00583571]\n",
            " [0.00680209 0.00565433 0.00583571]]\n",
            "\n",
            "Norm\n",
            "[1.47013605e+02 3.34257264e+05 5.14075870e+02]\n"
          ],
          "name": "stdout"
        }
      ]
    },
    {
      "cell_type": "code",
      "metadata": {
        "id": "1j5BaQsLlKKT",
        "outputId": "dc352288-a6e3-4a11-b87c-911448af51ec",
        "colab": {
          "base_uri": "https://localhost:8080/",
          "height": 52
        }
      },
      "source": [
        "my_weight = np.array([1.,4.,1.])\n",
        "prediction = predict_feature(simple_feature_normalize, my_weight )\n",
        "prediction"
      ],
      "execution_count": 23,
      "outputs": [
        {
          "output_type": "execute_result",
          "data": {
            "text/plain": [
              "array([0.02675867, 0.04339256, 0.01990703, ..., 0.02289873, 0.03178473,\n",
              "       0.02289873])"
            ]
          },
          "metadata": {
            "tags": []
          },
          "execution_count": 23
        }
      ]
    },
    {
      "cell_type": "markdown",
      "metadata": {
        "id": "n5s_c3H9l8A_"
      },
      "source": [
        "```\n",
        "       ┌ (ro[i] + lambda/2)     if ro[i] < -lambda/2\n",
        "w[i] = ├ 0                      if -lambda/2 <= ro[i] <= lambda/2\n",
        "       └ (ro[i] - lambda/2)     if ro[i] > lambda/2\n",
        "```\n",
        "\n",
        "**ro[i] = SUM[ [feature_i]*(output - prediction + w[i]*[feature_i]) ].**<br>\n",
        "\n",
        "**Compute the values of ro[i] for each feature in this simple model, using the formula given above, using the formula:**"
      ]
    },
    {
      "cell_type": "code",
      "metadata": {
        "id": "52SZRqWYmcrb",
        "outputId": "fce8d274-d669-4825-cf92-094ce97d9d0f",
        "colab": {
          "base_uri": "https://localhost:8080/",
          "height": 34
        }
      },
      "source": [
        "ro = np.array([0,0,0])\n",
        "ro[1] = np.sum(simple_feature_normalize[:,1]* (output - prediction + weight[1]*simple_feature_normalize[:,1]))\n",
        "ro[2] = np.sum(simple_feature_normalize[:,2]* (output - prediction + weight[2]*simple_feature_normalize[:,2]))\n",
        "print(ro)"
      ],
      "execution_count": 28,
      "outputs": [
        {
          "output_type": "stream",
          "text": [
            "[       0 87939470 80966698]\n"
          ],
          "name": "stdout"
        }
      ]
    },
    {
      "cell_type": "markdown",
      "metadata": {
        "id": "0Vkh_LUonlP_"
      },
      "source": [
        "**The range of values of `l1_penalty` would not set `w[1]` zero, but would set `w[2]` to zero**\n"
      ]
    },
    {
      "cell_type": "code",
      "metadata": {
        "id": "KCftJREmn6jn",
        "outputId": "fc2fb911-19a1-4585-d167-53c8c68c270e",
        "colab": {
          "base_uri": "https://localhost:8080/",
          "height": 69
        }
      },
      "source": [
        "print(\"ranges would NOT set w[1] to zero :\\t\", (-ro[1]*2, ro[1]*2))\n",
        "print(\"ranges would NOT set w[2] to zero :\\t\", (-ro[2]*2, ro[2]*2))\n",
        "\n",
        "print(\"ranges of l1_penalty set w2 zero but NOT set w1 zero:\\t\", (-ro[1]*2, -ro[2]*2), (ro[2]*2, ro[1]*2))"
      ],
      "execution_count": 30,
      "outputs": [
        {
          "output_type": "stream",
          "text": [
            "ranges would NOT set w[1] to zero :\t (-175878940, 175878940)\n",
            "ranges would NOT set w[2] to zero :\t (-161933396, 161933396)\n",
            "ranges of l1_penalty set w2 zero but NOT set w1 zero:\t (-175878940, -161933396) (161933396, 175878940)\n"
          ],
          "name": "stdout"
        }
      ]
    },
    {
      "cell_type": "markdown",
      "metadata": {
        "id": "al2L7oLgvH9f"
      },
      "source": [
        "**Single Coordinate Descent Step**"
      ]
    },
    {
      "cell_type": "code",
      "metadata": {
        "id": "hPlx0mrSoKFC"
      },
      "source": [
        "def lasso_coordinate_descent_step(i, feature_matrix, output, weights, l1_penalty):\n",
        "    \"\"\" First we compute prediction and find the ro[i] and check ther regurlize or not\n",
        "        i               :- weights\n",
        "        featrure_matrix :- normalized feature matrix\n",
        "        output          :- ourcase its price should string value\n",
        "        l1_penalty      :- l1 regulization penalty value\n",
        "        \"\"\"\n",
        "    # compute prediction\n",
        "    prediction = predict_feature(feature_matrix, weights)\n",
        "    # compute ro[i]\n",
        "    ro_i = np.sum(feature_matrix[:,i] * (output - prediction + weights[i] * feature_matrix[:,i]))\n",
        "    if i == 0:\n",
        "        new_weight_i = ro_i\n",
        "    elif ro_i < -l1_penalty /2.:\n",
        "        new_weight_i = (ro_i + l1_penalty/2)\n",
        "    elif ro_i > l1_penalty/2.:\n",
        "        new_weight_i = (ro_i - l1_penalty/2)\n",
        "    else:\n",
        "        new_weight_i = 0.\n",
        "    return new_weight_i "
      ],
      "execution_count": 46,
      "outputs": []
    },
    {
      "cell_type": "markdown",
      "metadata": {
        "id": "42lsI8fKvN87"
      },
      "source": [
        "**Cyclical coordinate descent**"
      ]
    },
    {
      "cell_type": "code",
      "metadata": {
        "id": "sb91fDAAvS6f"
      },
      "source": [
        "def lasso_cyclical_coordinate_descent(feature_matrix, output, initial_weights, l1_penalty, tolerance):\n",
        "    \"\"\" Each time we scan all the coordinates (features) once, we measure the change in weight \n",
        "        for each coordinate. If no coordinate changes by more than a specified threshold, we stop.\n",
        "        \n",
        "        featrure_matrix :- normalized feature matrix\n",
        "        output          :- ourcase its price should string value\n",
        "        l1_penalty      :- l1 regulization penalty value\n",
        "        \"\"\"\n",
        "    weights = initial_weights\n",
        "    max_coordinate_change = 0.0\n",
        "\n",
        "    for i in range(len(weights)):\n",
        "        old_weights_i = weights[i]\n",
        "\n",
        "        weights[i] = lasso_coordinate_descent_step(i, feature_matrix, output, weights, l1_penalty)\n",
        "        coordinate_change_i = old_weights_i - weights[i]\n",
        "        if coordinate_change_i > max_coordinate_change:\n",
        "            max_coordinate_change = coordinate_change_i\n",
        "            print(coordinate_change_i)\n",
        "    if max_coordinate_change <= tolerance:\n",
        "        return weights\n",
        "    else:\n",
        "         lasso_cyclical_coordinate_descent(feature_matrix, output, weights, l1_penalty, tolerance)\n",
        "\n"
      ],
      "execution_count": 43,
      "outputs": []
    },
    {
      "cell_type": "markdown",
      "metadata": {
        "id": "tWYjq16u85k9"
      },
      "source": [
        "**Then, run implementation of LASSO coordinate descent**"
      ]
    },
    {
      "cell_type": "code",
      "metadata": {
        "id": "H1rw_L4v6-FQ"
      },
      "source": [
        "simple_features = ['sqft_living', 'bedrooms']\n",
        "my_output = 'price'\n",
        "initial_weights = np.zeros(3)\n",
        "l1_penalty = 1e7\n",
        "tolerance = 1.0"
      ],
      "execution_count": 33,
      "outputs": []
    },
    {
      "cell_type": "code",
      "metadata": {
        "id": "W47NlgbL7BKU"
      },
      "source": [
        "(simple_feature_matrix, output) = get_numpy_data(data, simple_features, my_output)\n",
        "(normalized_simple_feature_matrix, simple_norms) = normalize_feature(simple_feature_matrix) # normalize features"
      ],
      "execution_count": 59,
      "outputs": []
    },
    {
      "cell_type": "code",
      "metadata": {
        "id": "ZW5OoOqD7IQ4",
        "outputId": "f7c294af-c96f-4993-f3e3-5aa65dafb226",
        "colab": {
          "base_uri": "https://localhost:8080/",
          "height": 52
        }
      },
      "source": [
        "weights = lasso_cyclical_coordinate_descent(normalized_simple_feature_matrix, output,\n",
        "                                            initial_weights, l1_penalty, tolerance)\n",
        "weights"
      ],
      "execution_count": 60,
      "outputs": [
        {
          "output_type": "stream",
          "text": [
            "0.44476933777332306\n"
          ],
          "name": "stdout"
        },
        {
          "output_type": "execute_result",
          "data": {
            "text/plain": [
              "array([21624991.05768758, 63157253.52158205,        0.        ])"
            ]
          },
          "metadata": {
            "tags": []
          },
          "execution_count": 60
        }
      ]
    },
    {
      "cell_type": "code",
      "metadata": {
        "id": "sqfFpjPU70hO",
        "outputId": "9328f0f3-1c0b-4aee-a8b0-d4a94aa042f8",
        "colab": {
          "base_uri": "https://localhost:8080/",
          "height": 52
        }
      },
      "source": [
        "lasso_cyclical_coordinate_descent(normalized_simple_feature_matrix, output,\n",
        "                                            initial_weights, l1_penalty, tolerance)"
      ],
      "execution_count": 61,
      "outputs": [
        {
          "output_type": "stream",
          "text": [
            "0.37219709157943726\n"
          ],
          "name": "stdout"
        },
        {
          "output_type": "execute_result",
          "data": {
            "text/plain": [
              "array([21624991.46455593, 63157253.14938496,        0.        ])"
            ]
          },
          "metadata": {
            "tags": []
          },
          "execution_count": 61
        }
      ]
    },
    {
      "cell_type": "code",
      "metadata": {
        "id": "2-TKheQS8i8O",
        "outputId": "f2380719-32cb-4fc6-fcbd-ca4c9e6587f2",
        "colab": {
          "base_uri": "https://localhost:8080/",
          "height": 34
        }
      },
      "source": [
        "predictions = predict_feature(normalized_simple_feature_matrix, weights)\n",
        "print(\"RSS of the learned model on the normalized dataset:\\t{:.5e}\".format(((output - predictions)**2).sum()))"
      ],
      "execution_count": 63,
      "outputs": [
        {
          "output_type": "stream",
          "text": [
            "RSS of the learned model on the normalized dataset:\t1.63049e+15\n"
          ],
          "name": "stdout"
        }
      ]
    },
    {
      "cell_type": "markdown",
      "metadata": {
        "id": "H5T90M0W9urq"
      },
      "source": [
        "**Evaluating LASSO fit with more features**"
      ]
    },
    {
      "cell_type": "code",
      "metadata": {
        "id": "Y0P5Mn3p9v7W"
      },
      "source": [
        "train_data,test_data = data.random_split(.8,seed=0)"
      ],
      "execution_count": 64,
      "outputs": []
    },
    {
      "cell_type": "code",
      "metadata": {
        "id": "6iyd6OQu978G"
      },
      "source": [
        "all_features = ['bedrooms',\n",
        "                'bathrooms',\n",
        "                'sqft_living',\n",
        "                'sqft_lot',\n",
        "                'floors',\n",
        "                'waterfront', \n",
        "                'view', \n",
        "                'condition', \n",
        "                'grade',\n",
        "                'sqft_above',\n",
        "                'sqft_basement',\n",
        "                'yr_built', \n",
        "                'yr_renovated']"
      ],
      "execution_count": 65,
      "outputs": []
    },
    {
      "cell_type": "code",
      "metadata": {
        "id": "0UW92i2r9-rF"
      },
      "source": [
        "(all_feature_matrix, output) = get_numpy_data(train_data, all_features, my_output)\n",
        "(normalized_all_feature_matrix, all_norms) = normalize_feature(all_feature_matrix) # normalize features"
      ],
      "execution_count": 67,
      "outputs": []
    },
    {
      "cell_type": "code",
      "metadata": {
        "id": "SXe3eXkW-Ip5"
      },
      "source": [
        "initial_weights = np.zeros(14)\n",
        "l1_penalty = 1e7\n",
        "tolerance = 1.0"
      ],
      "execution_count": 72,
      "outputs": []
    },
    {
      "cell_type": "code",
      "metadata": {
        "id": "Mt1OwSZ0-K3c",
        "outputId": "5f3c98ac-2209-4774-aa68-d4b56accefe8",
        "colab": {
          "base_uri": "https://localhost:8080/",
          "height": 34
        }
      },
      "source": [
        "weights1e7 = lasso_cyclical_coordinate_descent(normalized_all_feature_matrix, output,\n",
        "                                            initial_weights, l1_penalty, tolerance)"
      ],
      "execution_count": 74,
      "outputs": [
        {
          "output_type": "stream",
          "text": [
            "0.7191657610237598\n"
          ],
          "name": "stdout"
        }
      ]
    },
    {
      "cell_type": "code",
      "metadata": {
        "id": "qsWRIi_v-QL0",
        "outputId": "08d02930-2ed4-45e0-f8dd-80738639a2a9",
        "colab": {
          "base_uri": "https://localhost:8080/",
          "height": 86
        }
      },
      "source": [
        "print(weights1e7)"
      ],
      "execution_count": 75,
      "outputs": [
        {
          "output_type": "stream",
          "text": [
            "[24429599.51523736        0.                0.         48389175.44877578\n",
            "        0.                0.          3317511.21586376  7329961.76733328\n",
            "        0.                0.                0.                0.\n",
            "        0.                0.        ]\n"
          ],
          "name": "stdout"
        }
      ]
    },
    {
      "cell_type": "code",
      "metadata": {
        "id": "r7LRvJCk-1gl"
      },
      "source": [
        "feature_list = ['constant'] + all_features"
      ],
      "execution_count": 82,
      "outputs": []
    },
    {
      "cell_type": "code",
      "metadata": {
        "id": "v9KM4NMH-4BK",
        "outputId": "6af645ef-42a3-4ade-b444-df4eebd6b010",
        "colab": {
          "base_uri": "https://localhost:8080/",
          "height": 86
        }
      },
      "source": [
        "for k,v in zip(feature_list, weights1e7):\n",
        "    if v != 0.0:\n",
        "        print(k, v)"
      ],
      "execution_count": 83,
      "outputs": [
        {
          "output_type": "stream",
          "text": [
            "constant 24429599.515237365\n",
            "sqft_living 48389175.44877578\n",
            "waterfront 3317511.215863756\n",
            "view 7329961.767333284\n"
          ],
          "name": "stdout"
        }
      ]
    },
    {
      "cell_type": "code",
      "metadata": {
        "id": "rkeNWk9z-c8X"
      },
      "source": [
        "initial_weights = np.zeros(14)\n",
        "l1_penalty = 1e8\n",
        "tolerance = 1.0"
      ],
      "execution_count": 76,
      "outputs": []
    },
    {
      "cell_type": "code",
      "metadata": {
        "id": "4-Pm8UGA-fG_"
      },
      "source": [
        "weights1e8 = lasso_cyclical_coordinate_descent(normalized_all_feature_matrix, output,\n",
        "                                            initial_weights, l1_penalty, tolerance)"
      ],
      "execution_count": 78,
      "outputs": []
    },
    {
      "cell_type": "code",
      "metadata": {
        "id": "UkcMuQdn-jEz",
        "outputId": "8fe13f1e-8e33-482f-c47a-2af81618cc3a",
        "colab": {
          "base_uri": "https://localhost:8080/",
          "height": 104
        }
      },
      "source": [
        "weights1e8"
      ],
      "execution_count": 79,
      "outputs": [
        {
          "output_type": "execute_result",
          "data": {
            "text/plain": [
              "array([71114625.71488702,        0.        ,        0.        ,\n",
              "              0.        ,        0.        ,        0.        ,\n",
              "              0.        ,        0.        ,        0.        ,\n",
              "              0.        ,        0.        ,        0.        ,\n",
              "              0.        ,        0.        ])"
            ]
          },
          "metadata": {
            "tags": []
          },
          "execution_count": 79
        }
      ]
    },
    {
      "cell_type": "markdown",
      "metadata": {
        "id": "QG9JaXE4-lal"
      },
      "source": [
        "**Features had non-zero weight in this case**"
      ]
    },
    {
      "cell_type": "code",
      "metadata": {
        "id": "aGks1Rzl-oED",
        "outputId": "d6540633-5fcc-4e09-b0b5-54ceb0581276",
        "colab": {
          "base_uri": "https://localhost:8080/",
          "height": 34
        }
      },
      "source": [
        "for k,v in zip(feature_list, weights1e8):\n",
        "    if v != 0.0:\n",
        "        print(k, v)"
      ],
      "execution_count": 84,
      "outputs": [
        {
          "output_type": "stream",
          "text": [
            "constant 71114625.71488702\n"
          ],
          "name": "stdout"
        }
      ]
    },
    {
      "cell_type": "markdown",
      "metadata": {
        "id": "nTyQBbm6_Fyh"
      },
      "source": [
        "**Finally, learn the weights with l1_penalty=1e4, on the training data. Initialize weights to all zeros, and set the tolerance=5e5.**"
      ]
    },
    {
      "cell_type": "code",
      "metadata": {
        "id": "DxnPysUZ_HYg"
      },
      "source": [
        "initial_weights = np.zeros(14)\n",
        "l1_penalty = 1e4\n",
        "tolerance = 5e5"
      ],
      "execution_count": 90,
      "outputs": []
    },
    {
      "cell_type": "code",
      "metadata": {
        "id": "I8mVNYhc_M6C",
        "outputId": "eefc5faf-d71a-447d-a4c2-174dd3b81a1e",
        "colab": {
          "base_uri": "https://localhost:8080/",
          "height": 69
        }
      },
      "source": [
        "weights1e4 = lasso_cyclical_coordinate_descent(normalized_all_feature_matrix, output,\n",
        "                                            initial_weights, l1_penalty, tolerance)"
      ],
      "execution_count": 93,
      "outputs": [
        {
          "output_type": "stream",
          "text": [
            "57911.28881525248\n",
            "188183.99360296316\n",
            "496485.9123094268\n"
          ],
          "name": "stdout"
        }
      ]
    },
    {
      "cell_type": "code",
      "metadata": {
        "id": "IgtiDWpV_Q3R",
        "outputId": "9c4d65c4-c31d-4b91-b4f5-964d99e06d96",
        "colab": {
          "base_uri": "https://localhost:8080/",
          "height": 104
        }
      },
      "source": [
        "weights1e4"
      ],
      "execution_count": 94,
      "outputs": [
        {
          "output_type": "execute_result",
          "data": {
            "text/plain": [
              "array([ 77038859.60208486, -21635681.75037373,  15536145.41333864,\n",
              "        83990080.81003869,  -2017288.60867553,  -5431729.45690593,\n",
              "         6481705.37853717,   7246557.04962423,   2241631.18760191,\n",
              "         8531074.43396704,  -7232536.84361754,  -3077425.33358186,\n",
              "       -76356323.75845608,   2780146.66815214])"
            ]
          },
          "metadata": {
            "tags": []
          },
          "execution_count": 94
        }
      ]
    },
    {
      "cell_type": "code",
      "metadata": {
        "id": "vEH0NYhO_Wgy",
        "outputId": "d9326d30-c526-46c0-d646-61099ee4a75f",
        "colab": {
          "base_uri": "https://localhost:8080/",
          "height": 260
        }
      },
      "source": [
        "for k,v in zip(feature_list, weights1e4):\n",
        "    if v != 0.0:\n",
        "        print(k, v)"
      ],
      "execution_count": 95,
      "outputs": [
        {
          "output_type": "stream",
          "text": [
            "constant 77038859.60208486\n",
            "bedrooms -21635681.750373732\n",
            "bathrooms 15536145.413338635\n",
            "sqft_living 83990080.81003869\n",
            "sqft_lot -2017288.6086755306\n",
            "floors -5431729.456905927\n",
            "waterfront 6481705.378537168\n",
            "view 7246557.049624234\n",
            "condition 2241631.1876019062\n",
            "grade 8531074.433967035\n",
            "sqft_above -7232536.843617544\n",
            "sqft_basement -3077425.3335818555\n",
            "yr_built -76356323.75845608\n",
            "yr_renovated 2780146.668152137\n"
          ],
          "name": "stdout"
        }
      ]
    },
    {
      "cell_type": "code",
      "metadata": {
        "id": "uzqFXkL7_oo3"
      },
      "source": [
        "my_output = 'price'\n",
        "(feature_matrix, output) = get_numpy_data(train_data, all_features, my_output)\n",
        "normalized_feature_matrix, norms = normalize_feature(feature_matrix)"
      ],
      "execution_count": 97,
      "outputs": []
    },
    {
      "cell_type": "code",
      "metadata": {
        "id": "rHv6l4Rh_tfS",
        "outputId": "46bc63d3-c418-4055-d4a2-4cbebd3a17e2",
        "colab": {
          "base_uri": "https://localhost:8080/",
          "height": 34
        }
      },
      "source": [
        "normalized_weights1e7 = weights1e7 / norms\n",
        "normalized_weights1e8 = weights1e8 / norms\n",
        "normalized_weights1e4 = weights1e4 / norms\n",
        "print(normalized_weights1e7[3])"
      ],
      "execution_count": 98,
      "outputs": [
        {
          "output_type": "stream",
          "text": [
            "161.3174599038232\n"
          ],
          "name": "stdout"
        }
      ]
    },
    {
      "cell_type": "code",
      "metadata": {
        "id": "tea85pg5_zTu"
      },
      "source": [
        "(test_feature_matrix, test_output) = get_numpy_data(test_data, all_features, 'price')"
      ],
      "execution_count": 99,
      "outputs": []
    },
    {
      "cell_type": "code",
      "metadata": {
        "id": "ymiWO-dU_1xr",
        "outputId": "32cad993-d248-4ffa-9163-5979c310209a",
        "colab": {
          "base_uri": "https://localhost:8080/",
          "height": 34
        }
      },
      "source": [
        "prediction = predict_feature(test_feature_matrix, normalized_weights1e4)\n",
        "rss = ((test_output - prediction)**2).sum()\n",
        "print('RSS for model with weights1e4 is {:.5e}'.format(rss))"
      ],
      "execution_count": 101,
      "outputs": [
        {
          "output_type": "stream",
          "text": [
            "RSS for model with weights1e4 is 2.31990e+14\n"
          ],
          "name": "stdout"
        }
      ]
    },
    {
      "cell_type": "code",
      "metadata": {
        "id": "RIEVHZMs_-G1",
        "outputId": "06778e5d-ac51-45e9-f530-881e4b892c4f",
        "colab": {
          "base_uri": "https://localhost:8080/",
          "height": 34
        }
      },
      "source": [
        "prediction = predict_feature(test_feature_matrix, normalized_weights1e7)\n",
        "rss = ((test_output - prediction)**2).sum()\n",
        "print('RSS for model with weights1e7 is {:.5e}'.format(rss))"
      ],
      "execution_count": 102,
      "outputs": [
        {
          "output_type": "stream",
          "text": [
            "RSS for model with weights1e7 is 2.75962e+14\n"
          ],
          "name": "stdout"
        }
      ]
    },
    {
      "cell_type": "code",
      "metadata": {
        "id": "ilYc9XGuADy7",
        "outputId": "f37fcdbb-0e21-423f-ddef-e68676384686",
        "colab": {
          "base_uri": "https://localhost:8080/",
          "height": 34
        }
      },
      "source": [
        "prediction = predict_feature(test_feature_matrix, normalized_weights1e8)\n",
        "rss = ((test_output - prediction)**2).sum()\n",
        "print('RSS for model with weights1e8 is {:.5e}'.format(rss))"
      ],
      "execution_count": 103,
      "outputs": [
        {
          "output_type": "stream",
          "text": [
            "RSS for model with weights1e8 is 5.37166e+14\n"
          ],
          "name": "stdout"
        }
      ]
    }
  ]
}
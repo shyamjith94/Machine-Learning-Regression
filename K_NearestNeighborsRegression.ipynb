{
  "nbformat": 4,
  "nbformat_minor": 0,
  "metadata": {
    "colab": {
      "name": "K-NearestNeighborsRegression.ipynb",
      "provenance": [],
      "mount_file_id": "1Ore7pHgLssU-YlGOqa67p5Py6jQ4d27w",
      "authorship_tag": "ABX9TyNIAFG6ImiVOsEdCS8+Y85E",
      "include_colab_link": true
    },
    "kernelspec": {
      "name": "python3",
      "display_name": "Python 3"
    }
  },
  "cells": [
    {
      "cell_type": "markdown",
      "metadata": {
        "id": "view-in-github",
        "colab_type": "text"
      },
      "source": [
        "<a href=\"https://colab.research.google.com/github/shyamjith94/Machine-Learning-Regression/blob/main/K_NearestNeighborsRegression.ipynb\" target=\"_parent\"><img src=\"https://colab.research.google.com/assets/colab-badge.svg\" alt=\"Open In Colab\"/></a>"
      ]
    },
    {
      "cell_type": "code",
      "metadata": {
        "id": "fyq-k2xxM_oU"
      },
      "source": [
        "%%capture\n",
        "!pip install turicreate"
      ],
      "execution_count": 1,
      "outputs": []
    },
    {
      "cell_type": "code",
      "metadata": {
        "id": "0_ucwIR7NiKX"
      },
      "source": [
        "import turicreate as tc\n",
        "import matplotlib.pyplot as plt\n",
        "import seaborn as sns\n",
        "import pandas as pd\n",
        "import numpy as np\n",
        "from math import log, sqrt\n",
        "from sklearn.utils import shuffle"
      ],
      "execution_count": 2,
      "outputs": []
    },
    {
      "cell_type": "code",
      "metadata": {
        "id": "4qvkPaUlZklD",
        "outputId": "880e8cde-067e-4be1-dbcf-05188628d1a8",
        "colab": {
          "base_uri": "https://localhost:8080/",
          "height": 208
        }
      },
      "source": [
        "data = tc.SFrame.read_csv(\"/content/drive/My Drive/Machine Learning: Regression/Data/3/kc_house_data_small.csv\")"
      ],
      "execution_count": 21,
      "outputs": [
        {
          "output_type": "display_data",
          "data": {
            "text/html": [
              "<pre>Finished parsing file /content/drive/My Drive/Machine Learning: Regression/Data/3/kc_house_data_small.csv</pre>"
            ],
            "text/plain": [
              "Finished parsing file /content/drive/My Drive/Machine Learning: Regression/Data/3/kc_house_data_small.csv"
            ]
          },
          "metadata": {
            "tags": []
          }
        },
        {
          "output_type": "display_data",
          "data": {
            "text/html": [
              "<pre>Parsing completed. Parsed 100 lines in 0.594946 secs.</pre>"
            ],
            "text/plain": [
              "Parsing completed. Parsed 100 lines in 0.594946 secs."
            ]
          },
          "metadata": {
            "tags": []
          }
        },
        {
          "output_type": "stream",
          "text": [
            "------------------------------------------------------\n",
            "Inferred types from first 100 line(s) of file as \n",
            "column_type_hints=[int,str,int,int,float,int,int,float,int,int,int,int,int,int,int,int,int,float,float,int,int]\n",
            "If parsing fails due to incorrect types, you can correct\n",
            "the inferred type list above and pass it to read_csv in\n",
            "the column_type_hints argument\n",
            "------------------------------------------------------\n"
          ],
          "name": "stdout"
        },
        {
          "output_type": "display_data",
          "data": {
            "text/html": [
              "<pre>Finished parsing file /content/drive/My Drive/Machine Learning: Regression/Data/3/kc_house_data_small.csv</pre>"
            ],
            "text/plain": [
              "Finished parsing file /content/drive/My Drive/Machine Learning: Regression/Data/3/kc_house_data_small.csv"
            ]
          },
          "metadata": {
            "tags": []
          }
        },
        {
          "output_type": "display_data",
          "data": {
            "text/html": [
              "<pre>Parsing completed. Parsed 8703 lines in 0.050017 secs.</pre>"
            ],
            "text/plain": [
              "Parsing completed. Parsed 8703 lines in 0.050017 secs."
            ]
          },
          "metadata": {
            "tags": []
          }
        }
      ]
    },
    {
      "cell_type": "code",
      "metadata": {
        "id": "e1XkHpFAuYkZ",
        "outputId": "2931ae08-14d0-41df-a866-ce786c197eb1",
        "colab": {
          "base_uri": "https://localhost:8080/",
          "height": 465
        }
      },
      "source": [
        "data.head()"
      ],
      "execution_count": 38,
      "outputs": [
        {
          "output_type": "execute_result",
          "data": {
            "text/html": [
              "<div style=\"max-height:1000px;max-width:1500px;overflow:auto;\"><table frame=\"box\" rules=\"cols\">\n",
              "    <tr>\n",
              "        <th style=\"padding-left: 1em; padding-right: 1em; text-align: center\">id</th>\n",
              "        <th style=\"padding-left: 1em; padding-right: 1em; text-align: center\">date</th>\n",
              "        <th style=\"padding-left: 1em; padding-right: 1em; text-align: center\">price</th>\n",
              "        <th style=\"padding-left: 1em; padding-right: 1em; text-align: center\">bedrooms</th>\n",
              "        <th style=\"padding-left: 1em; padding-right: 1em; text-align: center\">bathrooms</th>\n",
              "        <th style=\"padding-left: 1em; padding-right: 1em; text-align: center\">sqft_living</th>\n",
              "        <th style=\"padding-left: 1em; padding-right: 1em; text-align: center\">sqft_lot</th>\n",
              "        <th style=\"padding-left: 1em; padding-right: 1em; text-align: center\">floors</th>\n",
              "        <th style=\"padding-left: 1em; padding-right: 1em; text-align: center\">waterfront</th>\n",
              "        <th style=\"padding-left: 1em; padding-right: 1em; text-align: center\">view</th>\n",
              "        <th style=\"padding-left: 1em; padding-right: 1em; text-align: center\">condition</th>\n",
              "    </tr>\n",
              "    <tr>\n",
              "        <td style=\"padding-left: 1em; padding-right: 1em; text-align: center; vertical-align: top\">7129300520</td>\n",
              "        <td style=\"padding-left: 1em; padding-right: 1em; text-align: center; vertical-align: top\">20141013T000000</td>\n",
              "        <td style=\"padding-left: 1em; padding-right: 1em; text-align: center; vertical-align: top\">221900</td>\n",
              "        <td style=\"padding-left: 1em; padding-right: 1em; text-align: center; vertical-align: top\">3</td>\n",
              "        <td style=\"padding-left: 1em; padding-right: 1em; text-align: center; vertical-align: top\">1.0</td>\n",
              "        <td style=\"padding-left: 1em; padding-right: 1em; text-align: center; vertical-align: top\">1180</td>\n",
              "        <td style=\"padding-left: 1em; padding-right: 1em; text-align: center; vertical-align: top\">5650</td>\n",
              "        <td style=\"padding-left: 1em; padding-right: 1em; text-align: center; vertical-align: top\">1.0</td>\n",
              "        <td style=\"padding-left: 1em; padding-right: 1em; text-align: center; vertical-align: top\">0</td>\n",
              "        <td style=\"padding-left: 1em; padding-right: 1em; text-align: center; vertical-align: top\">0</td>\n",
              "        <td style=\"padding-left: 1em; padding-right: 1em; text-align: center; vertical-align: top\">3</td>\n",
              "    </tr>\n",
              "    <tr>\n",
              "        <td style=\"padding-left: 1em; padding-right: 1em; text-align: center; vertical-align: top\">6414100192</td>\n",
              "        <td style=\"padding-left: 1em; padding-right: 1em; text-align: center; vertical-align: top\">20141209T000000</td>\n",
              "        <td style=\"padding-left: 1em; padding-right: 1em; text-align: center; vertical-align: top\">538000</td>\n",
              "        <td style=\"padding-left: 1em; padding-right: 1em; text-align: center; vertical-align: top\">3</td>\n",
              "        <td style=\"padding-left: 1em; padding-right: 1em; text-align: center; vertical-align: top\">2.25</td>\n",
              "        <td style=\"padding-left: 1em; padding-right: 1em; text-align: center; vertical-align: top\">2570</td>\n",
              "        <td style=\"padding-left: 1em; padding-right: 1em; text-align: center; vertical-align: top\">7242</td>\n",
              "        <td style=\"padding-left: 1em; padding-right: 1em; text-align: center; vertical-align: top\">2.0</td>\n",
              "        <td style=\"padding-left: 1em; padding-right: 1em; text-align: center; vertical-align: top\">0</td>\n",
              "        <td style=\"padding-left: 1em; padding-right: 1em; text-align: center; vertical-align: top\">0</td>\n",
              "        <td style=\"padding-left: 1em; padding-right: 1em; text-align: center; vertical-align: top\">3</td>\n",
              "    </tr>\n",
              "    <tr>\n",
              "        <td style=\"padding-left: 1em; padding-right: 1em; text-align: center; vertical-align: top\">5631500400</td>\n",
              "        <td style=\"padding-left: 1em; padding-right: 1em; text-align: center; vertical-align: top\">20150225T000000</td>\n",
              "        <td style=\"padding-left: 1em; padding-right: 1em; text-align: center; vertical-align: top\">180000</td>\n",
              "        <td style=\"padding-left: 1em; padding-right: 1em; text-align: center; vertical-align: top\">2</td>\n",
              "        <td style=\"padding-left: 1em; padding-right: 1em; text-align: center; vertical-align: top\">1.0</td>\n",
              "        <td style=\"padding-left: 1em; padding-right: 1em; text-align: center; vertical-align: top\">770</td>\n",
              "        <td style=\"padding-left: 1em; padding-right: 1em; text-align: center; vertical-align: top\">10000</td>\n",
              "        <td style=\"padding-left: 1em; padding-right: 1em; text-align: center; vertical-align: top\">1.0</td>\n",
              "        <td style=\"padding-left: 1em; padding-right: 1em; text-align: center; vertical-align: top\">0</td>\n",
              "        <td style=\"padding-left: 1em; padding-right: 1em; text-align: center; vertical-align: top\">0</td>\n",
              "        <td style=\"padding-left: 1em; padding-right: 1em; text-align: center; vertical-align: top\">3</td>\n",
              "    </tr>\n",
              "    <tr>\n",
              "        <td style=\"padding-left: 1em; padding-right: 1em; text-align: center; vertical-align: top\">2487200875</td>\n",
              "        <td style=\"padding-left: 1em; padding-right: 1em; text-align: center; vertical-align: top\">20141209T000000</td>\n",
              "        <td style=\"padding-left: 1em; padding-right: 1em; text-align: center; vertical-align: top\">604000</td>\n",
              "        <td style=\"padding-left: 1em; padding-right: 1em; text-align: center; vertical-align: top\">4</td>\n",
              "        <td style=\"padding-left: 1em; padding-right: 1em; text-align: center; vertical-align: top\">3.0</td>\n",
              "        <td style=\"padding-left: 1em; padding-right: 1em; text-align: center; vertical-align: top\">1960</td>\n",
              "        <td style=\"padding-left: 1em; padding-right: 1em; text-align: center; vertical-align: top\">5000</td>\n",
              "        <td style=\"padding-left: 1em; padding-right: 1em; text-align: center; vertical-align: top\">1.0</td>\n",
              "        <td style=\"padding-left: 1em; padding-right: 1em; text-align: center; vertical-align: top\">0</td>\n",
              "        <td style=\"padding-left: 1em; padding-right: 1em; text-align: center; vertical-align: top\">0</td>\n",
              "        <td style=\"padding-left: 1em; padding-right: 1em; text-align: center; vertical-align: top\">5</td>\n",
              "    </tr>\n",
              "    <tr>\n",
              "        <td style=\"padding-left: 1em; padding-right: 1em; text-align: center; vertical-align: top\">1954400510</td>\n",
              "        <td style=\"padding-left: 1em; padding-right: 1em; text-align: center; vertical-align: top\">20150218T000000</td>\n",
              "        <td style=\"padding-left: 1em; padding-right: 1em; text-align: center; vertical-align: top\">510000</td>\n",
              "        <td style=\"padding-left: 1em; padding-right: 1em; text-align: center; vertical-align: top\">3</td>\n",
              "        <td style=\"padding-left: 1em; padding-right: 1em; text-align: center; vertical-align: top\">2.0</td>\n",
              "        <td style=\"padding-left: 1em; padding-right: 1em; text-align: center; vertical-align: top\">1680</td>\n",
              "        <td style=\"padding-left: 1em; padding-right: 1em; text-align: center; vertical-align: top\">8080</td>\n",
              "        <td style=\"padding-left: 1em; padding-right: 1em; text-align: center; vertical-align: top\">1.0</td>\n",
              "        <td style=\"padding-left: 1em; padding-right: 1em; text-align: center; vertical-align: top\">0</td>\n",
              "        <td style=\"padding-left: 1em; padding-right: 1em; text-align: center; vertical-align: top\">0</td>\n",
              "        <td style=\"padding-left: 1em; padding-right: 1em; text-align: center; vertical-align: top\">3</td>\n",
              "    </tr>\n",
              "    <tr>\n",
              "        <td style=\"padding-left: 1em; padding-right: 1em; text-align: center; vertical-align: top\">2008000270</td>\n",
              "        <td style=\"padding-left: 1em; padding-right: 1em; text-align: center; vertical-align: top\">20150115T000000</td>\n",
              "        <td style=\"padding-left: 1em; padding-right: 1em; text-align: center; vertical-align: top\">291850</td>\n",
              "        <td style=\"padding-left: 1em; padding-right: 1em; text-align: center; vertical-align: top\">3</td>\n",
              "        <td style=\"padding-left: 1em; padding-right: 1em; text-align: center; vertical-align: top\">1.5</td>\n",
              "        <td style=\"padding-left: 1em; padding-right: 1em; text-align: center; vertical-align: top\">1060</td>\n",
              "        <td style=\"padding-left: 1em; padding-right: 1em; text-align: center; vertical-align: top\">9711</td>\n",
              "        <td style=\"padding-left: 1em; padding-right: 1em; text-align: center; vertical-align: top\">1.0</td>\n",
              "        <td style=\"padding-left: 1em; padding-right: 1em; text-align: center; vertical-align: top\">0</td>\n",
              "        <td style=\"padding-left: 1em; padding-right: 1em; text-align: center; vertical-align: top\">0</td>\n",
              "        <td style=\"padding-left: 1em; padding-right: 1em; text-align: center; vertical-align: top\">3</td>\n",
              "    </tr>\n",
              "    <tr>\n",
              "        <td style=\"padding-left: 1em; padding-right: 1em; text-align: center; vertical-align: top\">2414600126</td>\n",
              "        <td style=\"padding-left: 1em; padding-right: 1em; text-align: center; vertical-align: top\">20150415T000000</td>\n",
              "        <td style=\"padding-left: 1em; padding-right: 1em; text-align: center; vertical-align: top\">229500</td>\n",
              "        <td style=\"padding-left: 1em; padding-right: 1em; text-align: center; vertical-align: top\">3</td>\n",
              "        <td style=\"padding-left: 1em; padding-right: 1em; text-align: center; vertical-align: top\">1.0</td>\n",
              "        <td style=\"padding-left: 1em; padding-right: 1em; text-align: center; vertical-align: top\">1780</td>\n",
              "        <td style=\"padding-left: 1em; padding-right: 1em; text-align: center; vertical-align: top\">7470</td>\n",
              "        <td style=\"padding-left: 1em; padding-right: 1em; text-align: center; vertical-align: top\">1.0</td>\n",
              "        <td style=\"padding-left: 1em; padding-right: 1em; text-align: center; vertical-align: top\">0</td>\n",
              "        <td style=\"padding-left: 1em; padding-right: 1em; text-align: center; vertical-align: top\">0</td>\n",
              "        <td style=\"padding-left: 1em; padding-right: 1em; text-align: center; vertical-align: top\">3</td>\n",
              "    </tr>\n",
              "    <tr>\n",
              "        <td style=\"padding-left: 1em; padding-right: 1em; text-align: center; vertical-align: top\">1736800520</td>\n",
              "        <td style=\"padding-left: 1em; padding-right: 1em; text-align: center; vertical-align: top\">20150403T000000</td>\n",
              "        <td style=\"padding-left: 1em; padding-right: 1em; text-align: center; vertical-align: top\">662500</td>\n",
              "        <td style=\"padding-left: 1em; padding-right: 1em; text-align: center; vertical-align: top\">3</td>\n",
              "        <td style=\"padding-left: 1em; padding-right: 1em; text-align: center; vertical-align: top\">2.5</td>\n",
              "        <td style=\"padding-left: 1em; padding-right: 1em; text-align: center; vertical-align: top\">3560</td>\n",
              "        <td style=\"padding-left: 1em; padding-right: 1em; text-align: center; vertical-align: top\">9796</td>\n",
              "        <td style=\"padding-left: 1em; padding-right: 1em; text-align: center; vertical-align: top\">1.0</td>\n",
              "        <td style=\"padding-left: 1em; padding-right: 1em; text-align: center; vertical-align: top\">0</td>\n",
              "        <td style=\"padding-left: 1em; padding-right: 1em; text-align: center; vertical-align: top\">0</td>\n",
              "        <td style=\"padding-left: 1em; padding-right: 1em; text-align: center; vertical-align: top\">3</td>\n",
              "    </tr>\n",
              "    <tr>\n",
              "        <td style=\"padding-left: 1em; padding-right: 1em; text-align: center; vertical-align: top\">9297300055</td>\n",
              "        <td style=\"padding-left: 1em; padding-right: 1em; text-align: center; vertical-align: top\">20150124T000000</td>\n",
              "        <td style=\"padding-left: 1em; padding-right: 1em; text-align: center; vertical-align: top\">650000</td>\n",
              "        <td style=\"padding-left: 1em; padding-right: 1em; text-align: center; vertical-align: top\">4</td>\n",
              "        <td style=\"padding-left: 1em; padding-right: 1em; text-align: center; vertical-align: top\">3.0</td>\n",
              "        <td style=\"padding-left: 1em; padding-right: 1em; text-align: center; vertical-align: top\">2950</td>\n",
              "        <td style=\"padding-left: 1em; padding-right: 1em; text-align: center; vertical-align: top\">5000</td>\n",
              "        <td style=\"padding-left: 1em; padding-right: 1em; text-align: center; vertical-align: top\">2.0</td>\n",
              "        <td style=\"padding-left: 1em; padding-right: 1em; text-align: center; vertical-align: top\">0</td>\n",
              "        <td style=\"padding-left: 1em; padding-right: 1em; text-align: center; vertical-align: top\">3</td>\n",
              "        <td style=\"padding-left: 1em; padding-right: 1em; text-align: center; vertical-align: top\">3</td>\n",
              "    </tr>\n",
              "    <tr>\n",
              "        <td style=\"padding-left: 1em; padding-right: 1em; text-align: center; vertical-align: top\">6865200140</td>\n",
              "        <td style=\"padding-left: 1em; padding-right: 1em; text-align: center; vertical-align: top\">20140529T000000</td>\n",
              "        <td style=\"padding-left: 1em; padding-right: 1em; text-align: center; vertical-align: top\">485000</td>\n",
              "        <td style=\"padding-left: 1em; padding-right: 1em; text-align: center; vertical-align: top\">4</td>\n",
              "        <td style=\"padding-left: 1em; padding-right: 1em; text-align: center; vertical-align: top\">1.0</td>\n",
              "        <td style=\"padding-left: 1em; padding-right: 1em; text-align: center; vertical-align: top\">1600</td>\n",
              "        <td style=\"padding-left: 1em; padding-right: 1em; text-align: center; vertical-align: top\">4300</td>\n",
              "        <td style=\"padding-left: 1em; padding-right: 1em; text-align: center; vertical-align: top\">1.5</td>\n",
              "        <td style=\"padding-left: 1em; padding-right: 1em; text-align: center; vertical-align: top\">0</td>\n",
              "        <td style=\"padding-left: 1em; padding-right: 1em; text-align: center; vertical-align: top\">0</td>\n",
              "        <td style=\"padding-left: 1em; padding-right: 1em; text-align: center; vertical-align: top\">4</td>\n",
              "    </tr>\n",
              "</table>\n",
              "<table frame=\"box\" rules=\"cols\">\n",
              "    <tr>\n",
              "        <th style=\"padding-left: 1em; padding-right: 1em; text-align: center\">grade</th>\n",
              "        <th style=\"padding-left: 1em; padding-right: 1em; text-align: center\">sqft_above</th>\n",
              "        <th style=\"padding-left: 1em; padding-right: 1em; text-align: center\">sqft_basement</th>\n",
              "        <th style=\"padding-left: 1em; padding-right: 1em; text-align: center\">yr_built</th>\n",
              "        <th style=\"padding-left: 1em; padding-right: 1em; text-align: center\">yr_renovated</th>\n",
              "        <th style=\"padding-left: 1em; padding-right: 1em; text-align: center\">zipcode</th>\n",
              "        <th style=\"padding-left: 1em; padding-right: 1em; text-align: center\">lat</th>\n",
              "        <th style=\"padding-left: 1em; padding-right: 1em; text-align: center\">long</th>\n",
              "        <th style=\"padding-left: 1em; padding-right: 1em; text-align: center\">sqft_living15</th>\n",
              "        <th style=\"padding-left: 1em; padding-right: 1em; text-align: center\">sqft_lot15</th>\n",
              "    </tr>\n",
              "    <tr>\n",
              "        <td style=\"padding-left: 1em; padding-right: 1em; text-align: center; vertical-align: top\">7</td>\n",
              "        <td style=\"padding-left: 1em; padding-right: 1em; text-align: center; vertical-align: top\">1180</td>\n",
              "        <td style=\"padding-left: 1em; padding-right: 1em; text-align: center; vertical-align: top\">0</td>\n",
              "        <td style=\"padding-left: 1em; padding-right: 1em; text-align: center; vertical-align: top\">1955</td>\n",
              "        <td style=\"padding-left: 1em; padding-right: 1em; text-align: center; vertical-align: top\">0</td>\n",
              "        <td style=\"padding-left: 1em; padding-right: 1em; text-align: center; vertical-align: top\">98178</td>\n",
              "        <td style=\"padding-left: 1em; padding-right: 1em; text-align: center; vertical-align: top\">47.5112</td>\n",
              "        <td style=\"padding-left: 1em; padding-right: 1em; text-align: center; vertical-align: top\">-122.257</td>\n",
              "        <td style=\"padding-left: 1em; padding-right: 1em; text-align: center; vertical-align: top\">1340</td>\n",
              "        <td style=\"padding-left: 1em; padding-right: 1em; text-align: center; vertical-align: top\">5650</td>\n",
              "    </tr>\n",
              "    <tr>\n",
              "        <td style=\"padding-left: 1em; padding-right: 1em; text-align: center; vertical-align: top\">7</td>\n",
              "        <td style=\"padding-left: 1em; padding-right: 1em; text-align: center; vertical-align: top\">2170</td>\n",
              "        <td style=\"padding-left: 1em; padding-right: 1em; text-align: center; vertical-align: top\">400</td>\n",
              "        <td style=\"padding-left: 1em; padding-right: 1em; text-align: center; vertical-align: top\">1951</td>\n",
              "        <td style=\"padding-left: 1em; padding-right: 1em; text-align: center; vertical-align: top\">1991</td>\n",
              "        <td style=\"padding-left: 1em; padding-right: 1em; text-align: center; vertical-align: top\">98125</td>\n",
              "        <td style=\"padding-left: 1em; padding-right: 1em; text-align: center; vertical-align: top\">47.721</td>\n",
              "        <td style=\"padding-left: 1em; padding-right: 1em; text-align: center; vertical-align: top\">-122.319</td>\n",
              "        <td style=\"padding-left: 1em; padding-right: 1em; text-align: center; vertical-align: top\">1690</td>\n",
              "        <td style=\"padding-left: 1em; padding-right: 1em; text-align: center; vertical-align: top\">7639</td>\n",
              "    </tr>\n",
              "    <tr>\n",
              "        <td style=\"padding-left: 1em; padding-right: 1em; text-align: center; vertical-align: top\">6</td>\n",
              "        <td style=\"padding-left: 1em; padding-right: 1em; text-align: center; vertical-align: top\">770</td>\n",
              "        <td style=\"padding-left: 1em; padding-right: 1em; text-align: center; vertical-align: top\">0</td>\n",
              "        <td style=\"padding-left: 1em; padding-right: 1em; text-align: center; vertical-align: top\">1933</td>\n",
              "        <td style=\"padding-left: 1em; padding-right: 1em; text-align: center; vertical-align: top\">0</td>\n",
              "        <td style=\"padding-left: 1em; padding-right: 1em; text-align: center; vertical-align: top\">98028</td>\n",
              "        <td style=\"padding-left: 1em; padding-right: 1em; text-align: center; vertical-align: top\">47.7379</td>\n",
              "        <td style=\"padding-left: 1em; padding-right: 1em; text-align: center; vertical-align: top\">-122.233</td>\n",
              "        <td style=\"padding-left: 1em; padding-right: 1em; text-align: center; vertical-align: top\">2720</td>\n",
              "        <td style=\"padding-left: 1em; padding-right: 1em; text-align: center; vertical-align: top\">8062</td>\n",
              "    </tr>\n",
              "    <tr>\n",
              "        <td style=\"padding-left: 1em; padding-right: 1em; text-align: center; vertical-align: top\">7</td>\n",
              "        <td style=\"padding-left: 1em; padding-right: 1em; text-align: center; vertical-align: top\">1050</td>\n",
              "        <td style=\"padding-left: 1em; padding-right: 1em; text-align: center; vertical-align: top\">910</td>\n",
              "        <td style=\"padding-left: 1em; padding-right: 1em; text-align: center; vertical-align: top\">1965</td>\n",
              "        <td style=\"padding-left: 1em; padding-right: 1em; text-align: center; vertical-align: top\">0</td>\n",
              "        <td style=\"padding-left: 1em; padding-right: 1em; text-align: center; vertical-align: top\">98136</td>\n",
              "        <td style=\"padding-left: 1em; padding-right: 1em; text-align: center; vertical-align: top\">47.5208</td>\n",
              "        <td style=\"padding-left: 1em; padding-right: 1em; text-align: center; vertical-align: top\">-122.393</td>\n",
              "        <td style=\"padding-left: 1em; padding-right: 1em; text-align: center; vertical-align: top\">1360</td>\n",
              "        <td style=\"padding-left: 1em; padding-right: 1em; text-align: center; vertical-align: top\">5000</td>\n",
              "    </tr>\n",
              "    <tr>\n",
              "        <td style=\"padding-left: 1em; padding-right: 1em; text-align: center; vertical-align: top\">8</td>\n",
              "        <td style=\"padding-left: 1em; padding-right: 1em; text-align: center; vertical-align: top\">1680</td>\n",
              "        <td style=\"padding-left: 1em; padding-right: 1em; text-align: center; vertical-align: top\">0</td>\n",
              "        <td style=\"padding-left: 1em; padding-right: 1em; text-align: center; vertical-align: top\">1987</td>\n",
              "        <td style=\"padding-left: 1em; padding-right: 1em; text-align: center; vertical-align: top\">0</td>\n",
              "        <td style=\"padding-left: 1em; padding-right: 1em; text-align: center; vertical-align: top\">98074</td>\n",
              "        <td style=\"padding-left: 1em; padding-right: 1em; text-align: center; vertical-align: top\">47.6168</td>\n",
              "        <td style=\"padding-left: 1em; padding-right: 1em; text-align: center; vertical-align: top\">-122.045</td>\n",
              "        <td style=\"padding-left: 1em; padding-right: 1em; text-align: center; vertical-align: top\">1800</td>\n",
              "        <td style=\"padding-left: 1em; padding-right: 1em; text-align: center; vertical-align: top\">7503</td>\n",
              "    </tr>\n",
              "    <tr>\n",
              "        <td style=\"padding-left: 1em; padding-right: 1em; text-align: center; vertical-align: top\">7</td>\n",
              "        <td style=\"padding-left: 1em; padding-right: 1em; text-align: center; vertical-align: top\">1060</td>\n",
              "        <td style=\"padding-left: 1em; padding-right: 1em; text-align: center; vertical-align: top\">0</td>\n",
              "        <td style=\"padding-left: 1em; padding-right: 1em; text-align: center; vertical-align: top\">1963</td>\n",
              "        <td style=\"padding-left: 1em; padding-right: 1em; text-align: center; vertical-align: top\">0</td>\n",
              "        <td style=\"padding-left: 1em; padding-right: 1em; text-align: center; vertical-align: top\">98198</td>\n",
              "        <td style=\"padding-left: 1em; padding-right: 1em; text-align: center; vertical-align: top\">47.4095</td>\n",
              "        <td style=\"padding-left: 1em; padding-right: 1em; text-align: center; vertical-align: top\">-122.315</td>\n",
              "        <td style=\"padding-left: 1em; padding-right: 1em; text-align: center; vertical-align: top\">1650</td>\n",
              "        <td style=\"padding-left: 1em; padding-right: 1em; text-align: center; vertical-align: top\">9711</td>\n",
              "    </tr>\n",
              "    <tr>\n",
              "        <td style=\"padding-left: 1em; padding-right: 1em; text-align: center; vertical-align: top\">7</td>\n",
              "        <td style=\"padding-left: 1em; padding-right: 1em; text-align: center; vertical-align: top\">1050</td>\n",
              "        <td style=\"padding-left: 1em; padding-right: 1em; text-align: center; vertical-align: top\">730</td>\n",
              "        <td style=\"padding-left: 1em; padding-right: 1em; text-align: center; vertical-align: top\">1960</td>\n",
              "        <td style=\"padding-left: 1em; padding-right: 1em; text-align: center; vertical-align: top\">0</td>\n",
              "        <td style=\"padding-left: 1em; padding-right: 1em; text-align: center; vertical-align: top\">98146</td>\n",
              "        <td style=\"padding-left: 1em; padding-right: 1em; text-align: center; vertical-align: top\">47.5123</td>\n",
              "        <td style=\"padding-left: 1em; padding-right: 1em; text-align: center; vertical-align: top\">-122.337</td>\n",
              "        <td style=\"padding-left: 1em; padding-right: 1em; text-align: center; vertical-align: top\">1780</td>\n",
              "        <td style=\"padding-left: 1em; padding-right: 1em; text-align: center; vertical-align: top\">8113</td>\n",
              "    </tr>\n",
              "    <tr>\n",
              "        <td style=\"padding-left: 1em; padding-right: 1em; text-align: center; vertical-align: top\">8</td>\n",
              "        <td style=\"padding-left: 1em; padding-right: 1em; text-align: center; vertical-align: top\">1860</td>\n",
              "        <td style=\"padding-left: 1em; padding-right: 1em; text-align: center; vertical-align: top\">1700</td>\n",
              "        <td style=\"padding-left: 1em; padding-right: 1em; text-align: center; vertical-align: top\">1965</td>\n",
              "        <td style=\"padding-left: 1em; padding-right: 1em; text-align: center; vertical-align: top\">0</td>\n",
              "        <td style=\"padding-left: 1em; padding-right: 1em; text-align: center; vertical-align: top\">98007</td>\n",
              "        <td style=\"padding-left: 1em; padding-right: 1em; text-align: center; vertical-align: top\">47.6007</td>\n",
              "        <td style=\"padding-left: 1em; padding-right: 1em; text-align: center; vertical-align: top\">-122.145</td>\n",
              "        <td style=\"padding-left: 1em; padding-right: 1em; text-align: center; vertical-align: top\">2210</td>\n",
              "        <td style=\"padding-left: 1em; padding-right: 1em; text-align: center; vertical-align: top\">8925</td>\n",
              "    </tr>\n",
              "    <tr>\n",
              "        <td style=\"padding-left: 1em; padding-right: 1em; text-align: center; vertical-align: top\">9</td>\n",
              "        <td style=\"padding-left: 1em; padding-right: 1em; text-align: center; vertical-align: top\">1980</td>\n",
              "        <td style=\"padding-left: 1em; padding-right: 1em; text-align: center; vertical-align: top\">970</td>\n",
              "        <td style=\"padding-left: 1em; padding-right: 1em; text-align: center; vertical-align: top\">1979</td>\n",
              "        <td style=\"padding-left: 1em; padding-right: 1em; text-align: center; vertical-align: top\">0</td>\n",
              "        <td style=\"padding-left: 1em; padding-right: 1em; text-align: center; vertical-align: top\">98126</td>\n",
              "        <td style=\"padding-left: 1em; padding-right: 1em; text-align: center; vertical-align: top\">47.5714</td>\n",
              "        <td style=\"padding-left: 1em; padding-right: 1em; text-align: center; vertical-align: top\">-122.375</td>\n",
              "        <td style=\"padding-left: 1em; padding-right: 1em; text-align: center; vertical-align: top\">2140</td>\n",
              "        <td style=\"padding-left: 1em; padding-right: 1em; text-align: center; vertical-align: top\">4000</td>\n",
              "    </tr>\n",
              "    <tr>\n",
              "        <td style=\"padding-left: 1em; padding-right: 1em; text-align: center; vertical-align: top\">7</td>\n",
              "        <td style=\"padding-left: 1em; padding-right: 1em; text-align: center; vertical-align: top\">1600</td>\n",
              "        <td style=\"padding-left: 1em; padding-right: 1em; text-align: center; vertical-align: top\">0</td>\n",
              "        <td style=\"padding-left: 1em; padding-right: 1em; text-align: center; vertical-align: top\">1916</td>\n",
              "        <td style=\"padding-left: 1em; padding-right: 1em; text-align: center; vertical-align: top\">0</td>\n",
              "        <td style=\"padding-left: 1em; padding-right: 1em; text-align: center; vertical-align: top\">98103</td>\n",
              "        <td style=\"padding-left: 1em; padding-right: 1em; text-align: center; vertical-align: top\">47.6648</td>\n",
              "        <td style=\"padding-left: 1em; padding-right: 1em; text-align: center; vertical-align: top\">-122.343</td>\n",
              "        <td style=\"padding-left: 1em; padding-right: 1em; text-align: center; vertical-align: top\">1610</td>\n",
              "        <td style=\"padding-left: 1em; padding-right: 1em; text-align: center; vertical-align: top\">4300</td>\n",
              "    </tr>\n",
              "</table>\n",
              "[10 rows x 21 columns]<br/>\n",
              "</div>"
            ],
            "text/plain": [
              "Columns:\n",
              "\tid\tint\n",
              "\tdate\tstr\n",
              "\tprice\tint\n",
              "\tbedrooms\tint\n",
              "\tbathrooms\tfloat\n",
              "\tsqft_living\tint\n",
              "\tsqft_lot\tint\n",
              "\tfloors\tfloat\n",
              "\twaterfront\tint\n",
              "\tview\tint\n",
              "\tcondition\tint\n",
              "\tgrade\tint\n",
              "\tsqft_above\tint\n",
              "\tsqft_basement\tint\n",
              "\tyr_built\tint\n",
              "\tyr_renovated\tint\n",
              "\tzipcode\tint\n",
              "\tlat\tfloat\n",
              "\tlong\tfloat\n",
              "\tsqft_living15\tint\n",
              "\tsqft_lot15\tint\n",
              "\n",
              "Rows: 10\n",
              "\n",
              "Data:\n",
              "+------------+-----------------+--------+----------+-----------+-------------+\n",
              "|     id     |       date      | price  | bedrooms | bathrooms | sqft_living |\n",
              "+------------+-----------------+--------+----------+-----------+-------------+\n",
              "| 7129300520 | 20141013T000000 | 221900 |    3     |    1.0    |     1180    |\n",
              "| 6414100192 | 20141209T000000 | 538000 |    3     |    2.25   |     2570    |\n",
              "| 5631500400 | 20150225T000000 | 180000 |    2     |    1.0    |     770     |\n",
              "| 2487200875 | 20141209T000000 | 604000 |    4     |    3.0    |     1960    |\n",
              "| 1954400510 | 20150218T000000 | 510000 |    3     |    2.0    |     1680    |\n",
              "| 2008000270 | 20150115T000000 | 291850 |    3     |    1.5    |     1060    |\n",
              "| 2414600126 | 20150415T000000 | 229500 |    3     |    1.0    |     1780    |\n",
              "| 1736800520 | 20150403T000000 | 662500 |    3     |    2.5    |     3560    |\n",
              "| 9297300055 | 20150124T000000 | 650000 |    4     |    3.0    |     2950    |\n",
              "| 6865200140 | 20140529T000000 | 485000 |    4     |    1.0    |     1600    |\n",
              "+------------+-----------------+--------+----------+-----------+-------------+\n",
              "+----------+--------+------------+------+-----------+-------+------------+---------------+\n",
              "| sqft_lot | floors | waterfront | view | condition | grade | sqft_above | sqft_basement |\n",
              "+----------+--------+------------+------+-----------+-------+------------+---------------+\n",
              "|   5650   |  1.0   |     0      |  0   |     3     |   7   |    1180    |       0       |\n",
              "|   7242   |  2.0   |     0      |  0   |     3     |   7   |    2170    |      400      |\n",
              "|  10000   |  1.0   |     0      |  0   |     3     |   6   |    770     |       0       |\n",
              "|   5000   |  1.0   |     0      |  0   |     5     |   7   |    1050    |      910      |\n",
              "|   8080   |  1.0   |     0      |  0   |     3     |   8   |    1680    |       0       |\n",
              "|   9711   |  1.0   |     0      |  0   |     3     |   7   |    1060    |       0       |\n",
              "|   7470   |  1.0   |     0      |  0   |     3     |   7   |    1050    |      730      |\n",
              "|   9796   |  1.0   |     0      |  0   |     3     |   8   |    1860    |      1700     |\n",
              "|   5000   |  2.0   |     0      |  3   |     3     |   9   |    1980    |      970      |\n",
              "|   4300   |  1.5   |     0      |  0   |     4     |   7   |    1600    |       0       |\n",
              "+----------+--------+------------+------+-----------+-------+------------+---------------+\n",
              "+----------+--------------+---------+---------+----------+---------------+-----+\n",
              "| yr_built | yr_renovated | zipcode |   lat   |   long   | sqft_living15 | ... |\n",
              "+----------+--------------+---------+---------+----------+---------------+-----+\n",
              "|   1955   |      0       |  98178  | 47.5112 | -122.257 |      1340     | ... |\n",
              "|   1951   |     1991     |  98125  |  47.721 | -122.319 |      1690     | ... |\n",
              "|   1933   |      0       |  98028  | 47.7379 | -122.233 |      2720     | ... |\n",
              "|   1965   |      0       |  98136  | 47.5208 | -122.393 |      1360     | ... |\n",
              "|   1987   |      0       |  98074  | 47.6168 | -122.045 |      1800     | ... |\n",
              "|   1963   |      0       |  98198  | 47.4095 | -122.315 |      1650     | ... |\n",
              "|   1960   |      0       |  98146  | 47.5123 | -122.337 |      1780     | ... |\n",
              "|   1965   |      0       |  98007  | 47.6007 | -122.145 |      2210     | ... |\n",
              "|   1979   |      0       |  98126  | 47.5714 | -122.375 |      2140     | ... |\n",
              "|   1916   |      0       |  98103  | 47.6648 | -122.343 |      1610     | ... |\n",
              "+----------+--------------+---------+---------+----------+---------------+-----+\n",
              "[10 rows x 21 columns]"
            ]
          },
          "metadata": {
            "tags": []
          },
          "execution_count": 38
        }
      ]
    },
    {
      "cell_type": "markdown",
      "metadata": {
        "id": "oTNb-GucZ__A"
      },
      "source": [
        "**Convert SFrame Data to Numpy**"
      ]
    },
    {
      "cell_type": "code",
      "metadata": {
        "id": "XLANw9GeaA0K"
      },
      "source": [
        "def get_numpy_data(frame, feature, output):\n",
        "    \"\"\" convert sframe to numpy data\n",
        "        frame   :- Sframe\n",
        "        feature :- list of fetures\n",
        "        output  :- name of output variable (price)\n",
        "        return  :- two arrays feature matrix and output array\"\"\"\n",
        "    # add constant to sframe\n",
        "    frame[\"constant\"] = 1 \n",
        "    feature = [\"constant\"] + feature\n",
        "    \n",
        "    # select feature column from frame include contant\n",
        "    feature_frame = frame[feature]\n",
        "\n",
        "    # convert to numpy\n",
        "    feature_matrix = feature_frame.to_numpy()\n",
        "\n",
        "    # select feature column from frame\n",
        "    output_frame = frame[output]\n",
        "    \n",
        "    # convert to numpy\n",
        "    output_array = output_frame.to_numpy()\n",
        "    return (feature_matrix, output_array)"
      ],
      "execution_count": 4,
      "outputs": []
    },
    {
      "cell_type": "code",
      "metadata": {
        "id": "qCVr1oCcgSFG"
      },
      "source": [
        "def normalize_feature(feature_matrix):\n",
        "    \"\"\" feature_matrix  :- numpy matrix of feature values\n",
        "        return          :- feature_matrix, normalized feture_matrix \n",
        "        \"\"\"\n",
        "    norm_feature = np.linalg.norm(feature_matrix, axis=0)\n",
        "    normalize_feature = feature_matrix/norm_feature\n",
        "    return normalize_feature,norm_feature "
      ],
      "execution_count": 5,
      "outputs": []
    },
    {
      "cell_type": "code",
      "metadata": {
        "id": "YhVehGe4nazg"
      },
      "source": [
        "(train_and_validation, test) = data.random_split(.8, seed=1) # initial train/test split\n",
        "(train, validation) = train_and_validation.random_split(.8, seed=1) # split training set into training and validation sets"
      ],
      "execution_count": 22,
      "outputs": []
    },
    {
      "cell_type": "code",
      "metadata": {
        "id": "aj5h0r4infi5"
      },
      "source": [
        "feature_list = ['bedrooms',  \n",
        "                'bathrooms',  \n",
        "                'sqft_living',  \n",
        "                'sqft_lot',  \n",
        "                'floors',\n",
        "                'waterfront',  \n",
        "                'view',  \n",
        "                'condition',  \n",
        "                'grade',  \n",
        "                'sqft_above',  \n",
        "                'sqft_basement',\n",
        "                'yr_built',  \n",
        "                'yr_renovated',  \n",
        "                'lat',  \n",
        "                'long',  \n",
        "                'sqft_living15',  \n",
        "                'sqft_lot15']"
      ],
      "execution_count": 8,
      "outputs": []
    },
    {
      "cell_type": "markdown",
      "metadata": {
        "id": "-i0ejRYInvzW"
      },
      "source": [
        "**Convert to Numpy Matrix**"
      ]
    },
    {
      "cell_type": "code",
      "metadata": {
        "id": "KH3N9mdenkTY"
      },
      "source": [
        "features_train, output_train = get_numpy_data(train, feature_list, 'price')\n",
        "features_test, output_test = get_numpy_data(test, feature_list, 'price')\n",
        "features_valid, output_valid = get_numpy_data(validation, feature_list, 'price')"
      ],
      "execution_count": 23,
      "outputs": []
    },
    {
      "cell_type": "markdown",
      "metadata": {
        "id": "ZhvO59qAn1v0"
      },
      "source": [
        "**Normalize Data**"
      ]
    },
    {
      "cell_type": "code",
      "metadata": {
        "id": "TbjPpoaWnt_q",
        "outputId": "58acb164-bf4d-4e08-d6d1-dfb2c8af14df",
        "colab": {
          "base_uri": "https://localhost:8080/",
          "height": 243
        }
      },
      "source": [
        "features_train, norms = normalize_feature(features_train)\n",
        "features_train"
      ],
      "execution_count": 24,
      "outputs": [
        {
          "output_type": "execute_result",
          "data": {
            "text/plain": [
              "array([[ 0.01345102,  0.01163464,  0.00602491, ..., -0.01345623,\n",
              "         0.00861561,  0.00229178],\n",
              "       [ 0.01345102,  0.01163464,  0.01355605, ..., -0.01346306,\n",
              "         0.01086596,  0.00309857],\n",
              "       [ 0.01345102,  0.00775643,  0.00602491, ..., -0.01345359,\n",
              "         0.0174884 ,  0.00327015],\n",
              "       ...,\n",
              "       [ 0.01345102,  0.01163464,  0.01506227, ..., -0.01341485,\n",
              "         0.0145951 ,  0.00232464],\n",
              "       [ 0.01345102,  0.01551285,  0.01506227, ..., -0.01344633,\n",
              "         0.01620249,  0.00244308],\n",
              "       [ 0.01345102,  0.01163464,  0.01506227, ..., -0.01346603,\n",
              "         0.00983723,  0.00061209]])"
            ]
          },
          "metadata": {
            "tags": []
          },
          "execution_count": 24
        }
      ]
    },
    {
      "cell_type": "code",
      "metadata": {
        "id": "hLFOPpSmoAzp",
        "outputId": "33a5d509-64c3-4e20-9a9e-ef26a369861e",
        "colab": {
          "base_uri": "https://localhost:8080/",
          "height": 104
        }
      },
      "source": [
        "norms"
      ],
      "execution_count": 25,
      "outputs": [
        {
          "output_type": "execute_result",
          "data": {
            "text/plain": [
              "array([7.43437960e+01, 2.57850732e+02, 1.65977596e+02, 1.67688695e+05,\n",
              "       3.11491224e+06, 1.17240138e+02, 6.32455532e+00, 5.87962584e+01,\n",
              "       2.57906960e+02, 5.75318173e+02, 1.45365513e+05, 3.90863965e+04,\n",
              "       1.46559338e+05, 2.99361461e+04, 3.53588887e+03, 9.08552952e+03,\n",
              "       1.55531640e+05, 2.46533053e+06])"
            ]
          },
          "metadata": {
            "tags": []
          },
          "execution_count": 25
        }
      ]
    },
    {
      "cell_type": "code",
      "metadata": {
        "id": "CV0wvUbkoHmG",
        "outputId": "42fc83e6-765f-4d03-b599-f5ad42c21f17",
        "colab": {
          "base_uri": "https://localhost:8080/",
          "height": 243
        }
      },
      "source": [
        "features_test = features_test/norms\n",
        "features_test"
      ],
      "execution_count": 26,
      "outputs": [
        {
          "output_type": "execute_result",
          "data": {
            "text/plain": [
              "array([[ 0.01345102,  0.01551285,  0.01807473, ..., -0.01346922,\n",
              "         0.01375926,  0.0016225 ],\n",
              "       [ 0.01345102,  0.01551285,  0.00602491, ..., -0.0134657 ,\n",
              "         0.01035159,  0.00174419],\n",
              "       [ 0.01345102,  0.01163464,  0.01054359, ..., -0.01346141,\n",
              "         0.00977293,  0.00252907],\n",
              "       ...,\n",
              "       [ 0.01345102,  0.00775643,  0.01355605, ..., -0.01343598,\n",
              "         0.00797265,  0.00030422],\n",
              "       [ 0.01345102,  0.01551285,  0.02108718, ..., -0.01344908,\n",
              "         0.01832425,  0.00231531],\n",
              "       [ 0.01345102,  0.01163464,  0.01054359, ..., -0.01342817,\n",
              "         0.00848702,  0.00458478]])"
            ]
          },
          "metadata": {
            "tags": []
          },
          "execution_count": 26
        }
      ]
    },
    {
      "cell_type": "code",
      "metadata": {
        "id": "_tTge3rOoMy1",
        "outputId": "c1c7f621-769a-411c-dca6-68d4e391a5d2",
        "colab": {
          "base_uri": "https://localhost:8080/",
          "height": 243
        }
      },
      "source": [
        "features_valid = features_valid/norms\n",
        "features_valid"
      ],
      "execution_count": 27,
      "outputs": [
        {
          "output_type": "execute_result",
          "data": {
            "text/plain": [
              "array([[ 0.01345102,  0.01551285,  0.01054359, ..., -0.01346548,\n",
              "         0.00900138,  0.00202001],\n",
              "       [ 0.01345102,  0.01939106,  0.01506227, ..., -0.01344655,\n",
              "         0.01440221,  0.0028414 ],\n",
              "       [ 0.01345102,  0.01551285,  0.01054359, ..., -0.01346845,\n",
              "         0.00938716,  0.00202813],\n",
              "       ...,\n",
              "       [ 0.01345102,  0.00775643,  0.01506227, ..., -0.01347054,\n",
              "         0.00630097,  0.00041495],\n",
              "       [ 0.01345102,  0.00775643,  0.00903736, ..., -0.01346042,\n",
              "         0.0072654 ,  0.00047012],\n",
              "       [ 0.01345102,  0.01163464,  0.01204982, ..., -0.01345964,\n",
              "         0.00900138,  0.00049892]])"
            ]
          },
          "metadata": {
            "tags": []
          },
          "execution_count": 27
        }
      ]
    },
    {
      "cell_type": "markdown",
      "metadata": {
        "id": "wcaPMhQFoWf6"
      },
      "source": [
        "**Compute Distance**"
      ]
    },
    {
      "cell_type": "code",
      "metadata": {
        "id": "CfxNXQ2XoVtI",
        "outputId": "df50e2e9-1c48-4412-e9ce-4e52872b5654",
        "colab": {
          "base_uri": "https://localhost:8080/",
          "height": 173
        }
      },
      "source": [
        "print(\"Test\")\n",
        "print(features_test[0])\n",
        "print(\"\\nTrain\")\n",
        "print(features_train[9])"
      ],
      "execution_count": 28,
      "outputs": [
        {
          "output_type": "stream",
          "text": [
            "Test\n",
            "[ 0.01345102  0.01551285  0.01807473  0.01759212  0.00160518  0.017059\n",
            "  0.          0.05102365  0.0116321   0.01564352  0.01362084  0.02481682\n",
            "  0.01350306  0.          0.01345387 -0.01346922  0.01375926  0.0016225 ]\n",
            "\n",
            "Train\n",
            "[ 0.01345102  0.01163464  0.00602491  0.0083488   0.00050756  0.01279425\n",
            "  0.          0.          0.01938684  0.01390535  0.0096309   0.\n",
            "  0.01302544  0.          0.01346821 -0.01346251  0.01195898  0.00156612]\n"
          ],
          "name": "stdout"
        }
      ]
    },
    {
      "cell_type": "markdown",
      "metadata": {
        "id": "ScRnOwEjo6ec"
      },
      "source": [
        "**The Euclidean distance between the query house and the 10th house of the training set**"
      ]
    },
    {
      "cell_type": "code",
      "metadata": {
        "id": "eRpUZyqNo5Ky",
        "outputId": "a595a1fe-1958-4a95-e1d0-ef321932bf66",
        "colab": {
          "base_uri": "https://localhost:8080/",
          "height": 34
        }
      },
      "source": [
        "np.sqrt(np.sum((features_train[9] - features_test[0])**2))"
      ],
      "execution_count": 29,
      "outputs": [
        {
          "output_type": "execute_result",
          "data": {
            "text/plain": [
              "0.05972359371398078"
            ]
          },
          "metadata": {
            "tags": []
          },
          "execution_count": 29
        }
      ]
    },
    {
      "cell_type": "markdown",
      "metadata": {
        "id": "uypM9UZ3qMEb"
      },
      "source": [
        "**Compute Multiple Distance**"
      ]
    },
    {
      "cell_type": "code",
      "metadata": {
        "id": "VHYyN56-qRsv",
        "outputId": "fdaf9fd1-4843-45ed-9c13-5d1be31aaa86",
        "colab": {
          "base_uri": "https://localhost:8080/",
          "height": 191
        }
      },
      "source": [
        "multiple_distance = []\n",
        "for training_house in features_train[0:10]:\n",
        "     multiple_distance.append(np.sqrt(np.sum((training_house-features_test[0])**2)))\n",
        "multiple_distance"
      ],
      "execution_count": 31,
      "outputs": [
        {
          "output_type": "execute_result",
          "data": {
            "text/plain": [
              "[0.06027470916295592,\n",
              " 0.08546881147643746,\n",
              " 0.06149946435279315,\n",
              " 0.05340273979294363,\n",
              " 0.05844484060170442,\n",
              " 0.059879215098128345,\n",
              " 0.05463140496775461,\n",
              " 0.055431083236146074,\n",
              " 0.052383627840220305,\n",
              " 0.05972359371398078]"
            ]
          },
          "metadata": {
            "tags": []
          },
          "execution_count": 31
        }
      ]
    },
    {
      "cell_type": "code",
      "metadata": {
        "id": "0L_2vsH3qf6i",
        "outputId": "7e907b14-9179-43e4-d764-063674949347",
        "colab": {
          "base_uri": "https://localhost:8080/",
          "height": 34
        }
      },
      "source": [
        "multiple_distance = np.array(multiple_distance)\n",
        "arg = np.argmin(multiple_distance)\n",
        "print(np.argmin(multiple_distance), \"--\", multiple_distance[arg])"
      ],
      "execution_count": 35,
      "outputs": [
        {
          "output_type": "stream",
          "text": [
            "8 -- 0.052383627840220305\n"
          ],
          "name": "stdout"
        }
      ]
    },
    {
      "cell_type": "code",
      "metadata": {
        "id": "Hr3vQ8tGuMfx",
        "outputId": "a3f9d93b-568e-4f1d-b421-2b76dc9b324f",
        "colab": {
          "base_uri": "https://localhost:8080/",
          "height": 243
        }
      },
      "source": [
        "diff = features_train - features_test[0]\n",
        "diff"
      ],
      "execution_count": 37,
      "outputs": [
        {
          "output_type": "execute_result",
          "data": {
            "text/plain": [
              "array([[ 0.00000000e+00, -3.87821276e-03, -1.20498190e-02, ...,\n",
              "         1.29876855e-05, -5.14364795e-03,  6.69281453e-04],\n",
              "       [ 0.00000000e+00, -3.87821276e-03, -4.51868214e-03, ...,\n",
              "         6.16364736e-06, -2.89330197e-03,  1.47606982e-03],\n",
              "       [ 0.00000000e+00, -7.75642553e-03, -1.20498190e-02, ...,\n",
              "         1.56292487e-05,  3.72914476e-03,  1.64764925e-03],\n",
              "       ...,\n",
              "       [ 0.00000000e+00, -3.87821276e-03, -3.01245476e-03, ...,\n",
              "         5.43721749e-05,  8.35842791e-04,  7.02137088e-04],\n",
              "       [ 0.00000000e+00,  0.00000000e+00, -3.01245476e-03, ...,\n",
              "         2.28935473e-05,  2.44323277e-03,  8.20579624e-04],\n",
              "       [ 0.00000000e+00, -3.87821276e-03, -3.01245476e-03, ...,\n",
              "         3.19188881e-06, -3.92203156e-03, -1.01041218e-03]])"
            ]
          },
          "metadata": {
            "tags": []
          },
          "execution_count": 37
        }
      ]
    },
    {
      "cell_type": "code",
      "metadata": {
        "id": "9Zb4ag4Iuh5W",
        "outputId": "160a2d55-1205-4637-cac1-1ba510c5e523",
        "colab": {
          "base_uri": "https://localhost:8080/",
          "height": 52
        }
      },
      "source": [
        "distances = np.sqrt(np.sum(diff**2,axis=1))\n",
        "distances"
      ],
      "execution_count": 39,
      "outputs": [
        {
          "output_type": "execute_result",
          "data": {
            "text/plain": [
              "array([0.06027471, 0.08546881, 0.06149946, ..., 0.05716729, 0.05705739,\n",
              "       0.05846758])"
            ]
          },
          "metadata": {
            "tags": []
          },
          "execution_count": 39
        }
      ]
    },
    {
      "cell_type": "code",
      "metadata": {
        "id": "myEIf-pWuoWF"
      },
      "source": [
        "def get_distances(training_features_matrix, single_feature_vector):\n",
        "    \"\"\" Finding the distance of matrix from two matrixes \n",
        "        training_features_matrix    :- entire training set or validation set\n",
        "        single_feature_vector       :- single column from matrix \n",
        "        return                      :- distances\n",
        "        \"\"\"\n",
        "    diff = training_features_matrix - single_feature_vector\n",
        "    distances = np.sqrt(np.sum(diff**2,axis=1))\n",
        "    return distances"
      ],
      "execution_count": 40,
      "outputs": []
    },
    {
      "cell_type": "markdown",
      "metadata": {
        "id": "FNZS-kazvO0v"
      },
      "source": [
        "**Compute 1 nearest neighbor regression for a single query house**"
      ]
    },
    {
      "cell_type": "code",
      "metadata": {
        "id": "QtcGX0RZvLCe",
        "outputId": "66d2080c-f8e2-461d-efc7-231606251256",
        "colab": {
          "base_uri": "https://localhost:8080/",
          "height": 34
        }
      },
      "source": [
        "distances_to_third_house = get_distances(features_train, features_test[2])\n",
        "np.argsort(distances_to_third_house)"
      ],
      "execution_count": 41,
      "outputs": [
        {
          "output_type": "execute_result",
          "data": {
            "text/plain": [
              "array([ 382, 1149, 4087, ..., 1107, 5226, 2486])"
            ]
          },
          "metadata": {
            "tags": []
          },
          "execution_count": 41
        }
      ]
    },
    {
      "cell_type": "code",
      "metadata": {
        "id": "Z1z60t9QvZRK",
        "outputId": "d279147c-c6c1-4d35-8254-dbbf76c2f372",
        "colab": {
          "base_uri": "https://localhost:8080/",
          "height": 34
        }
      },
      "source": [
        "## the index of the house in the training set that is closest to this query house\n",
        "np.argmin(distances_to_third_house)"
      ],
      "execution_count": 42,
      "outputs": [
        {
          "output_type": "execute_result",
          "data": {
            "text/plain": [
              "382"
            ]
          },
          "metadata": {
            "tags": []
          },
          "execution_count": 42
        }
      ]
    },
    {
      "cell_type": "code",
      "metadata": {
        "id": "jR1GLz2HvnE8",
        "outputId": "48ce2986-ff20-4cd8-9dfd-4685693a970d",
        "colab": {
          "base_uri": "https://localhost:8080/",
          "height": 34
        }
      },
      "source": [
        "output_train"
      ],
      "execution_count": 44,
      "outputs": [
        {
          "output_type": "execute_result",
          "data": {
            "text/plain": [
              "array([221900, 538000, 180000, ..., 507250, 610685, 360000])"
            ]
          },
          "metadata": {
            "tags": []
          },
          "execution_count": 44
        }
      ]
    },
    {
      "cell_type": "code",
      "metadata": {
        "id": "HVSXX0KOvc2Q",
        "outputId": "714cd145-368c-4a26-efb4-a1ad89bd829c",
        "colab": {
          "base_uri": "https://localhost:8080/",
          "height": 34
        }
      },
      "source": [
        "## predicted value of the query house based on 1-nearest neighbor regression\n",
        "output_train[382]"
      ],
      "execution_count": 43,
      "outputs": [
        {
          "output_type": "execute_result",
          "data": {
            "text/plain": [
              "249000"
            ]
          },
          "metadata": {
            "tags": []
          },
          "execution_count": 43
        }
      ]
    },
    {
      "cell_type": "markdown",
      "metadata": {
        "id": "C6SaoY1IvkbL"
      },
      "source": [
        "**Perform k-nearest neighbor regression**\n"
      ]
    },
    {
      "cell_type": "code",
      "metadata": {
        "id": "9BeEqr7Sv84i"
      },
      "source": [
        "def get_distances_k_nearest_neighbors(k, training_features_matrix, single_feature_vector):\n",
        "    \"\"\" Finding the distance of matrix from two matrixes \n",
        "        training_features_matrix    :- entire training set or validation set\n",
        "        single_feature_vector       :- single column from matrix\n",
        "        k                           :- value from return to array\n",
        "        return                      :- K the value from sorted array\n",
        "        \"\"\"\n",
        "    diff = training_features_matrix - single_feature_vector\n",
        "    distances = np.sqrt(np.sum(diff**2,axis=1))\n",
        "    nearest_neighbors = np.argsort(distances)\n",
        "    return nearest_neighbors[0:k]"
      ],
      "execution_count": 46,
      "outputs": []
    },
    {
      "cell_type": "code",
      "metadata": {
        "id": "J341V1ZuxNEo",
        "outputId": "1fe665a1-3067-4ac0-c2c1-1c1e07cb0bd2",
        "colab": {
          "base_uri": "https://localhost:8080/",
          "height": 34
        }
      },
      "source": [
        "n = get_distances_k_nearest_neighbors(4, features_train, features_test[2])\n",
        "n"
      ],
      "execution_count": 48,
      "outputs": [
        {
          "output_type": "execute_result",
          "data": {
            "text/plain": [
              "array([ 382, 1149, 4087, 3142])"
            ]
          },
          "metadata": {
            "tags": []
          },
          "execution_count": 48
        }
      ]
    },
    {
      "cell_type": "markdown",
      "metadata": {
        "id": "_iUtN8Fcxc4S"
      },
      "source": [
        "**Make a single prediction by averaging k nearest neighbor outputs**"
      ]
    },
    {
      "cell_type": "code",
      "metadata": {
        "id": "0msaPCwfxijd"
      },
      "source": [
        "def predict_output_k_nearest_neighbors(k, training_features_matrix,training_outputs, single_feature_vector):\n",
        "    \"\"\" Finding the distance of matrix from two matrixes \n",
        "        training_features_matrix    :- entire training set or validation set\n",
        "        single_feature_vector       :- single column from matrix\n",
        "        k                           :- value from return to array\n",
        "        return                      :- mean of training_outputs. K the value from sorted array \n",
        "        \"\"\"\n",
        "    diff = training_features_matrix - single_feature_vector\n",
        "    distances = np.sqrt(np.sum(diff**2,axis=1))\n",
        "    nearest_neighbors = np.argsort(distances)\n",
        "    return np.mean(training_outputs[nearest_neighbors[0:k]])"
      ],
      "execution_count": 51,
      "outputs": []
    },
    {
      "cell_type": "code",
      "metadata": {
        "id": "hgq9w0cox5Qz",
        "outputId": "0c8eb3c2-c6e4-4928-9fb2-bdde3bc54613",
        "colab": {
          "base_uri": "https://localhost:8080/",
          "height": 34
        }
      },
      "source": [
        "predict_output_k_nearest_neighbors(4, features_train, output_train, features_test[2])"
      ],
      "execution_count": 52,
      "outputs": [
        {
          "output_type": "execute_result",
          "data": {
            "text/plain": [
              "413987.5"
            ]
          },
          "metadata": {
            "tags": []
          },
          "execution_count": 52
        }
      ]
    },
    {
      "cell_type": "markdown",
      "metadata": {
        "id": "2CKd8OHXyMn4"
      },
      "source": [
        "**Function to predict prices of multiple houses using k-nearest neighbors**"
      ]
    },
    {
      "cell_type": "code",
      "metadata": {
        "id": "Cqo_3tXayOA_"
      },
      "source": [
        "def predict_multiple_output_k_nearest_neighbors(k, training_features_matrix, training_outputs, query_feature_matrix):\n",
        "    \"\"\" Finding the distance of matrix from two matrixes \n",
        "        training_features_matrix    :- entire training set or validation set\n",
        "        single_feature_vector       :- single column from matrix\n",
        "        k                           :- value from return to array\n",
        "        query_feature_matrix        :- number of query house\n",
        "        return                      :- predicted house price. K the value from sorted array \n",
        "        \"\"\"\n",
        "    predicted_house_price = []\n",
        "    for i in range(query_feature_matrix.shape[0]):\n",
        "        diff = training_features_matrix - query_feature_matrix[i]\n",
        "        distances = np.sqrt(np.sum(diff**2,axis=1))\n",
        "        nearest_neighbors = np.argsort(distances)\n",
        "        prediction = np.mean(training_outputs[nearest_neighbors[0:k]])\n",
        "        predicted_house_price.append(prediction)\n",
        "    return np.array(predicted_house_price)"
      ],
      "execution_count": 53,
      "outputs": []
    },
    {
      "cell_type": "code",
      "metadata": {
        "id": "2LCjtVySyhdd"
      },
      "source": [
        "prediction_test = predict_multiple_output_k_nearest_neighbors(10, features_train, output_train, features_test[0:9])"
      ],
      "execution_count": 54,
      "outputs": []
    },
    {
      "cell_type": "code",
      "metadata": {
        "id": "1qP48-N5ylFx",
        "outputId": "5b05d942-ee0f-440a-d081-c016538861a8",
        "colab": {
          "base_uri": "https://localhost:8080/",
          "height": 34
        }
      },
      "source": [
        "# the index of the house in this query set that has the lowest predicted value\n",
        "prediction_test.argmin()"
      ],
      "execution_count": 56,
      "outputs": [
        {
          "output_type": "execute_result",
          "data": {
            "text/plain": [
              "6"
            ]
          },
          "metadata": {
            "tags": []
          },
          "execution_count": 56
        }
      ]
    },
    {
      "cell_type": "markdown",
      "metadata": {
        "id": "ayB9Mfx-yyjp"
      },
      "source": [
        "**Choosing the best value of k using a validation set**"
      ]
    },
    {
      "cell_type": "code",
      "metadata": {
        "id": "rK2eG39nyz-5"
      },
      "source": [
        "rss_all = []\n",
        "for k in range(1,16):\n",
        "    prediction = predict_multiple_output_k_nearest_neighbors(k, features_train, output_train,  features_valid)\n",
        "    residual = prediction - output_valid\n",
        "    rss = (residual**2).sum()\n",
        "    rss_all.append(rss)"
      ],
      "execution_count": 57,
      "outputs": []
    },
    {
      "cell_type": "code",
      "metadata": {
        "id": "hAvFtNFzzOv6",
        "outputId": "10d7d320-486b-4dd2-9fd3-5f9c12ad9686",
        "colab": {
          "base_uri": "https://localhost:8080/",
          "height": 312
        }
      },
      "source": [
        "print(\"rss length\", len(rss_all),\"\\n\")\n",
        "rss_all"
      ],
      "execution_count": 65,
      "outputs": [
        {
          "output_type": "stream",
          "text": [
            "rss length 15 \n",
            "\n"
          ],
          "name": "stdout"
        },
        {
          "output_type": "execute_result",
          "data": {
            "text/plain": [
              "[105453830251561.0,\n",
              " 83445073504025.5,\n",
              " 72692096019202.56,\n",
              " 71946721652091.69,\n",
              " 69846517419718.6,\n",
              " 68899544353180.836,\n",
              " 68341973450051.09,\n",
              " 67361678735491.5,\n",
              " 68372727958976.09,\n",
              " 69335048668556.74,\n",
              " 69523855215598.83,\n",
              " 69049969587246.17,\n",
              " 70011254508263.69,\n",
              " 70908698869034.34,\n",
              " 71106928385945.16]"
            ]
          },
          "metadata": {
            "tags": []
          },
          "execution_count": 65
        }
      ]
    },
    {
      "cell_type": "code",
      "metadata": {
        "id": "4CcrCp7CzPoJ",
        "outputId": "05801f55-d2ae-4ff0-ba2e-19a2b31246e8",
        "colab": {
          "base_uri": "https://localhost:8080/",
          "height": 619
        }
      },
      "source": [
        "plt.figure(figsize=(16,10))\n",
        "kvals = range(1, 16)\n",
        "plt.plot(kvals, rss_all,'bo-')"
      ],
      "execution_count": 62,
      "outputs": [
        {
          "output_type": "execute_result",
          "data": {
            "text/plain": [
              "[<matplotlib.lines.Line2D at 0x7fcab15fa320>]"
            ]
          },
          "metadata": {
            "tags": []
          },
          "execution_count": 62
        },
        {
          "output_type": "display_data",
          "data": {
            "image/png": "[encoded data removed]",
            "text/plain": [
              "<Figure size 1152x720 with 1 Axes>"
            ]
          },
          "metadata": {
            "tags": [],
            "needs_background": "light"
          }
        }
      ]
    },
    {
      "cell_type": "code",
      "metadata": {
        "id": "2bICRwRq0E1Y",
        "outputId": "78acf62d-3991-4496-dcbe-53d889a13bc2",
        "colab": {
          "base_uri": "https://localhost:8080/",
          "height": 34
        }
      },
      "source": [
        "for k, rss in zip(kvals, rss_all):\n",
        "    if rss == min(rss_all):\n",
        "        k_best = k\n",
        "\n",
        "k_best"
      ],
      "execution_count": 66,
      "outputs": [
        {
          "output_type": "execute_result",
          "data": {
            "text/plain": [
              "8"
            ]
          },
          "metadata": {
            "tags": []
          },
          "execution_count": 66
        }
      ]
    },
    {
      "cell_type": "markdown",
      "metadata": {
        "id": "K9c0LKOF0Xq_"
      },
      "source": [
        "**RSS on the TEST data using the value of k found above**"
      ]
    },
    {
      "cell_type": "code",
      "metadata": {
        "id": "rWjUxxqc0XFK",
        "outputId": "9c95d2f0-9e1e-4c85-a33d-551175a85e9a",
        "colab": {
          "base_uri": "https://localhost:8080/",
          "height": 34
        }
      },
      "source": [
        "prediction_test = predict_multiple_output_k_nearest_neighbors(k, features_train, output_train,  features_test)\n",
        "rss_test = ((prediction_test - output_test)**2).sum()\n",
        "rss_test"
      ],
      "execution_count": 74,
      "outputs": [
        {
          "output_type": "execute_result",
          "data": {
            "text/plain": [
              "134342939295287.66"
            ]
          },
          "metadata": {
            "tags": []
          },
          "execution_count": 74
        }
      ]
    }
  ]
}
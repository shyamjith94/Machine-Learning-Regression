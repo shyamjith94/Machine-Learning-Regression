{
  "nbformat": 4,
  "nbformat_minor": 0,
  "metadata": {
    "colab": {
      "name": "MultipleLinearRegressionGradientDescent.ipynb",
      "provenance": [],
      "mount_file_id": "1x3bPnwzNU_6sgaCdPDunzUE9wkacqXm1",
      "authorship_tag": "ABX9TyPGaJ6MGzMBhdfyqMuOBASW",
      "include_colab_link": true
    },
    "kernelspec": {
      "name": "python3",
      "display_name": "Python 3"
    }
  },
  "cells": [
    {
      "cell_type": "markdown",
      "metadata": {
        "id": "view-in-github",
        "colab_type": "text"
      },
      "source": [
        "<a href=\"https://colab.research.google.com/github/shyamjith94/Machine-Learning-Regression/blob/main/MultipleLinearRegressionGradientDescent.ipynb\" target=\"_parent\"><img src=\"https://colab.research.google.com/assets/colab-badge.svg\" alt=\"Open In Colab\"/></a>"
      ]
    },
    {
      "cell_type": "code",
      "metadata": {
        "id": "C8c0Np_DToMh"
      },
      "source": [
        "%%capture\n",
        "!pip install turicreate"
      ],
      "execution_count": 10,
      "outputs": []
    },
    {
      "cell_type": "code",
      "metadata": {
        "id": "Iue2S_5CUVRa"
      },
      "source": [
        "import turicreate as tc\n",
        "import matplotlib.pyplot as plt\n",
        "import seaborn as sns\n",
        "import pandas as pd\n",
        "import numpy as np\n",
        "from math import log"
      ],
      "execution_count": 2,
      "outputs": []
    },
    {
      "cell_type": "code",
      "metadata": {
        "id": "HQozp1pmUY8c",
        "outputId": "5c526cd1-da5d-4e35-d3ee-98d565acbd2a",
        "colab": {
          "base_uri": "https://localhost:8080/",
          "height": 228
        }
      },
      "source": [
        "data = tc.SFrame.read_csv(\"/content/drive/My Drive/Machine Learning: Regression/Data/2/c_kc_house_data.csv/kc_house_data.csv\")"
      ],
      "execution_count": 3,
      "outputs": [
        {
          "output_type": "display_data",
          "data": {
            "text/html": [
              "<pre>Finished parsing file /content/drive/My Drive/Machine Learning: Regression/Data/2/c_kc_house_data.csv/kc_house_data.csv</pre>"
            ],
            "text/plain": [
              "Finished parsing file /content/drive/My Drive/Machine Learning: Regression/Data/2/c_kc_house_data.csv/kc_house_data.csv"
            ]
          },
          "metadata": {
            "tags": []
          }
        },
        {
          "output_type": "display_data",
          "data": {
            "text/html": [
              "<pre>Parsing completed. Parsed 100 lines in 1.67172 secs.</pre>"
            ],
            "text/plain": [
              "Parsing completed. Parsed 100 lines in 1.67172 secs."
            ]
          },
          "metadata": {
            "tags": []
          }
        },
        {
          "output_type": "stream",
          "text": [
            "------------------------------------------------------\n",
            "Inferred types from first 100 line(s) of file as \n",
            "column_type_hints=[int,str,float,int,float,int,int,float,int,int,int,int,int,int,int,int,int,float,float,int,int]\n",
            "If parsing fails due to incorrect types, you can correct\n",
            "the inferred type list above and pass it to read_csv in\n",
            "the column_type_hints argument\n",
            "------------------------------------------------------\n"
          ],
          "name": "stdout"
        },
        {
          "output_type": "display_data",
          "data": {
            "text/html": [
              "<pre>Finished parsing file /content/drive/My Drive/Machine Learning: Regression/Data/2/c_kc_house_data.csv/kc_house_data.csv</pre>"
            ],
            "text/plain": [
              "Finished parsing file /content/drive/My Drive/Machine Learning: Regression/Data/2/c_kc_house_data.csv/kc_house_data.csv"
            ]
          },
          "metadata": {
            "tags": []
          }
        },
        {
          "output_type": "display_data",
          "data": {
            "text/html": [
              "<pre>Parsing completed. Parsed 21613 lines in 0.104299 secs.</pre>"
            ],
            "text/plain": [
              "Parsing completed. Parsed 21613 lines in 0.104299 secs."
            ]
          },
          "metadata": {
            "tags": []
          }
        }
      ]
    },
    {
      "cell_type": "code",
      "metadata": {
        "id": "lchuuwa9U37N"
      },
      "source": [
        "def convert_to_numpy(frame: tc.SFrame, features: list, output:str):\n",
        "    \"\"\" Coverting Sframe to numpy array and return it\n",
        "        frame   - Sframe \n",
        "        feature - list of feature variable\n",
        "        output  - its output variable of model our case price\"\"\"\n",
        "    # add constant column to frame\n",
        "    frame[\"constant\"] = 1\n",
        "    # combine two list\n",
        "    features = [\"constant\"] + features\n",
        "    # cutting data frame based on feature list\n",
        "    feature_frame = frame[features]\n",
        "    # convert to numpy\n",
        "    feature_metrix = feature_frame.to_numpy()\n",
        "    # cutting frame based on output array\n",
        "    output_array = frame[output]\n",
        "    output_metrix = output_array.to_numpy()\n",
        "    return (feature_metrix, output_metrix)"
      ],
      "execution_count": 6,
      "outputs": []
    },
    {
      "cell_type": "code",
      "metadata": {
        "id": "J6ZwHme1YqMK",
        "outputId": "13e2a046-8282-4274-fc39-d18d6caabc77",
        "colab": {
          "base_uri": "https://localhost:8080/",
          "height": 156
        }
      },
      "source": [
        "sample_fetaure, sample_ouput = convert_to_numpy(data, [\"sqft_living\"], \"price\")\n",
        "print(\"sample_fetaure\")\n",
        "print(sample_fetaure[:5])\n",
        "print(\"sample_ouput\")\n",
        "print(sample_ouput[:5])"
      ],
      "execution_count": 9,
      "outputs": [
        {
          "output_type": "stream",
          "text": [
            "sample_fetaure\n",
            "[[   1 1180]\n",
            " [   1 2570]\n",
            " [   1  770]\n",
            " [   1 1960]\n",
            " [   1 1680]]\n",
            "sample_ouput\n",
            "[221900. 538000. 180000. 604000. 510000.]\n"
          ],
          "name": "stdout"
        }
      ]
    },
    {
      "cell_type": "code",
      "metadata": {
        "id": "iCsIEDE2ZMPA"
      },
      "source": [
        ""
      ],
      "execution_count": null,
      "outputs": []
    }
  ]
}